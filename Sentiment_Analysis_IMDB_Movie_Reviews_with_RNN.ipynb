{
  "cells": [
    {
      "cell_type": "code",
      "source": [
        "from google.colab import drive\n",
        "drive.mount('/content/drive')"
      ],
      "metadata": {
        "colab": {
          "base_uri": "https://localhost:8080/"
        },
        "id": "RibLNstbs7At",
        "outputId": "7b1b7e53-0664-4f10-cadb-3fa10203d853"
      },
      "id": "RibLNstbs7At",
      "execution_count": 1,
      "outputs": [
        {
          "output_type": "stream",
          "name": "stdout",
          "text": [
            "Drive already mounted at /content/drive; to attempt to forcibly remount, call drive.mount(\"/content/drive\", force_remount=True).\n"
          ]
        }
      ]
    },
    {
      "cell_type": "markdown",
      "metadata": {
        "id": "yUMZQaXpgNDj"
      },
      "source": [
        "## Sentiment Analysis: IMDB Movie Reviews"
      ],
      "id": "yUMZQaXpgNDj"
    },
    {
      "cell_type": "code",
      "execution_count": 2,
      "metadata": {
        "id": "Q95JuNaBgNDw"
      },
      "outputs": [],
      "source": [
        "import pandas as pd \n",
        "import numpy as np\n",
        "import matplotlib.pyplot as plt"
      ],
      "id": "Q95JuNaBgNDw"
    },
    {
      "cell_type": "code",
      "execution_count": 3,
      "metadata": {
        "colab": {
          "base_uri": "https://localhost:8080/",
          "height": 206
        },
        "id": "0gSqT2yGgND2",
        "outputId": "df3991f3-d2ce-4371-d430-61e73b01690c"
      },
      "outputs": [
        {
          "output_type": "execute_result",
          "data": {
            "text/plain": [
              "                                              review sentiment\n",
              "0  One of the other reviewers has mentioned that ...  positive\n",
              "1  A wonderful little production. <br /><br />The...  positive\n",
              "2  I thought this was a wonderful way to spend ti...  positive\n",
              "3  Basically there's a family where a little boy ...  negative\n",
              "4  Petter Mattei's \"Love in the Time of Money\" is...  positive"
            ],
            "text/html": [
              "\n",
              "  <div id=\"df-90fa5f8c-dc8c-43d8-93ff-e56133eb05c6\">\n",
              "    <div class=\"colab-df-container\">\n",
              "      <div>\n",
              "<style scoped>\n",
              "    .dataframe tbody tr th:only-of-type {\n",
              "        vertical-align: middle;\n",
              "    }\n",
              "\n",
              "    .dataframe tbody tr th {\n",
              "        vertical-align: top;\n",
              "    }\n",
              "\n",
              "    .dataframe thead th {\n",
              "        text-align: right;\n",
              "    }\n",
              "</style>\n",
              "<table border=\"1\" class=\"dataframe\">\n",
              "  <thead>\n",
              "    <tr style=\"text-align: right;\">\n",
              "      <th></th>\n",
              "      <th>review</th>\n",
              "      <th>sentiment</th>\n",
              "    </tr>\n",
              "  </thead>\n",
              "  <tbody>\n",
              "    <tr>\n",
              "      <th>0</th>\n",
              "      <td>One of the other reviewers has mentioned that ...</td>\n",
              "      <td>positive</td>\n",
              "    </tr>\n",
              "    <tr>\n",
              "      <th>1</th>\n",
              "      <td>A wonderful little production. &lt;br /&gt;&lt;br /&gt;The...</td>\n",
              "      <td>positive</td>\n",
              "    </tr>\n",
              "    <tr>\n",
              "      <th>2</th>\n",
              "      <td>I thought this was a wonderful way to spend ti...</td>\n",
              "      <td>positive</td>\n",
              "    </tr>\n",
              "    <tr>\n",
              "      <th>3</th>\n",
              "      <td>Basically there's a family where a little boy ...</td>\n",
              "      <td>negative</td>\n",
              "    </tr>\n",
              "    <tr>\n",
              "      <th>4</th>\n",
              "      <td>Petter Mattei's \"Love in the Time of Money\" is...</td>\n",
              "      <td>positive</td>\n",
              "    </tr>\n",
              "  </tbody>\n",
              "</table>\n",
              "</div>\n",
              "      <button class=\"colab-df-convert\" onclick=\"convertToInteractive('df-90fa5f8c-dc8c-43d8-93ff-e56133eb05c6')\"\n",
              "              title=\"Convert this dataframe to an interactive table.\"\n",
              "              style=\"display:none;\">\n",
              "        \n",
              "  <svg xmlns=\"http://www.w3.org/2000/svg\" height=\"24px\"viewBox=\"0 0 24 24\"\n",
              "       width=\"24px\">\n",
              "    <path d=\"M0 0h24v24H0V0z\" fill=\"none\"/>\n",
              "    <path d=\"M18.56 5.44l.94 2.06.94-2.06 2.06-.94-2.06-.94-.94-2.06-.94 2.06-2.06.94zm-11 1L8.5 8.5l.94-2.06 2.06-.94-2.06-.94L8.5 2.5l-.94 2.06-2.06.94zm10 10l.94 2.06.94-2.06 2.06-.94-2.06-.94-.94-2.06-.94 2.06-2.06.94z\"/><path d=\"M17.41 7.96l-1.37-1.37c-.4-.4-.92-.59-1.43-.59-.52 0-1.04.2-1.43.59L10.3 9.45l-7.72 7.72c-.78.78-.78 2.05 0 2.83L4 21.41c.39.39.9.59 1.41.59.51 0 1.02-.2 1.41-.59l7.78-7.78 2.81-2.81c.8-.78.8-2.07 0-2.86zM5.41 20L4 18.59l7.72-7.72 1.47 1.35L5.41 20z\"/>\n",
              "  </svg>\n",
              "      </button>\n",
              "      \n",
              "  <style>\n",
              "    .colab-df-container {\n",
              "      display:flex;\n",
              "      flex-wrap:wrap;\n",
              "      gap: 12px;\n",
              "    }\n",
              "\n",
              "    .colab-df-convert {\n",
              "      background-color: #E8F0FE;\n",
              "      border: none;\n",
              "      border-radius: 50%;\n",
              "      cursor: pointer;\n",
              "      display: none;\n",
              "      fill: #1967D2;\n",
              "      height: 32px;\n",
              "      padding: 0 0 0 0;\n",
              "      width: 32px;\n",
              "    }\n",
              "\n",
              "    .colab-df-convert:hover {\n",
              "      background-color: #E2EBFA;\n",
              "      box-shadow: 0px 1px 2px rgba(60, 64, 67, 0.3), 0px 1px 3px 1px rgba(60, 64, 67, 0.15);\n",
              "      fill: #174EA6;\n",
              "    }\n",
              "\n",
              "    [theme=dark] .colab-df-convert {\n",
              "      background-color: #3B4455;\n",
              "      fill: #D2E3FC;\n",
              "    }\n",
              "\n",
              "    [theme=dark] .colab-df-convert:hover {\n",
              "      background-color: #434B5C;\n",
              "      box-shadow: 0px 1px 3px 1px rgba(0, 0, 0, 0.15);\n",
              "      filter: drop-shadow(0px 1px 2px rgba(0, 0, 0, 0.3));\n",
              "      fill: #FFFFFF;\n",
              "    }\n",
              "  </style>\n",
              "\n",
              "      <script>\n",
              "        const buttonEl =\n",
              "          document.querySelector('#df-90fa5f8c-dc8c-43d8-93ff-e56133eb05c6 button.colab-df-convert');\n",
              "        buttonEl.style.display =\n",
              "          google.colab.kernel.accessAllowed ? 'block' : 'none';\n",
              "\n",
              "        async function convertToInteractive(key) {\n",
              "          const element = document.querySelector('#df-90fa5f8c-dc8c-43d8-93ff-e56133eb05c6');\n",
              "          const dataTable =\n",
              "            await google.colab.kernel.invokeFunction('convertToInteractive',\n",
              "                                                     [key], {});\n",
              "          if (!dataTable) return;\n",
              "\n",
              "          const docLinkHtml = 'Like what you see? Visit the ' +\n",
              "            '<a target=\"_blank\" href=https://colab.research.google.com/notebooks/data_table.ipynb>data table notebook</a>'\n",
              "            + ' to learn more about interactive tables.';\n",
              "          element.innerHTML = '';\n",
              "          dataTable['output_type'] = 'display_data';\n",
              "          await google.colab.output.renderOutput(dataTable, element);\n",
              "          const docLink = document.createElement('div');\n",
              "          docLink.innerHTML = docLinkHtml;\n",
              "          element.appendChild(docLink);\n",
              "        }\n",
              "      </script>\n",
              "    </div>\n",
              "  </div>\n",
              "  "
            ]
          },
          "metadata": {},
          "execution_count": 3
        }
      ],
      "source": [
        "data = pd.read_csv('/content/drive/MyDrive/imdb/IMDB_Dataset.csv')\n",
        "data.head()"
      ],
      "id": "0gSqT2yGgND2"
    },
    {
      "cell_type": "code",
      "execution_count": 4,
      "metadata": {
        "colab": {
          "base_uri": "https://localhost:8080/"
        },
        "id": "-hKjs4LQgND5",
        "outputId": "39214ef6-9eb2-43be-9d9e-f018931bea0b"
      },
      "outputs": [
        {
          "output_type": "stream",
          "name": "stdout",
          "text": [
            "<class 'pandas.core.frame.DataFrame'>\n",
            "RangeIndex: 50000 entries, 0 to 49999\n",
            "Data columns (total 2 columns):\n",
            " #   Column     Non-Null Count  Dtype \n",
            "---  ------     --------------  ----- \n",
            " 0   review     50000 non-null  object\n",
            " 1   sentiment  50000 non-null  object\n",
            "dtypes: object(2)\n",
            "memory usage: 781.4+ KB\n"
          ]
        }
      ],
      "source": [
        "data.info()"
      ],
      "id": "-hKjs4LQgND5"
    },
    {
      "cell_type": "markdown",
      "metadata": {
        "id": "-roOOakngND7"
      },
      "source": [
        "#### Checking if we have any null values in the dataset"
      ],
      "id": "-roOOakngND7"
    },
    {
      "cell_type": "code",
      "execution_count": 5,
      "metadata": {
        "colab": {
          "base_uri": "https://localhost:8080/"
        },
        "id": "V8S70FGwgND8",
        "outputId": "e67fbc1c-3e3d-4de5-e220-1e4d1b44cfff"
      },
      "outputs": [
        {
          "output_type": "execute_result",
          "data": {
            "text/plain": [
              "review       0\n",
              "sentiment    0\n",
              "dtype: int64"
            ]
          },
          "metadata": {},
          "execution_count": 5
        }
      ],
      "source": [
        "data.isnull().sum()"
      ],
      "id": "V8S70FGwgND8"
    },
    {
      "cell_type": "markdown",
      "metadata": {
        "id": "mwaV-BzVgND9"
      },
      "source": [
        "#### Converting Categorical Labels into Discrete"
      ],
      "id": "mwaV-BzVgND9"
    },
    {
      "cell_type": "code",
      "execution_count": 6,
      "metadata": {
        "id": "o6c5lTX1gND-"
      },
      "outputs": [],
      "source": [
        "data.replace(['positive', 'negative'], [1,0], inplace = True)"
      ],
      "id": "o6c5lTX1gND-"
    },
    {
      "cell_type": "code",
      "execution_count": 7,
      "metadata": {
        "colab": {
          "base_uri": "https://localhost:8080/",
          "height": 206
        },
        "id": "sH9xoVfdgND_",
        "outputId": "cd88c083-eab6-40c2-b593-e58adae45673"
      },
      "outputs": [
        {
          "output_type": "execute_result",
          "data": {
            "text/plain": [
              "                                              review  sentiment\n",
              "0  One of the other reviewers has mentioned that ...          1\n",
              "1  A wonderful little production. <br /><br />The...          1\n",
              "2  I thought this was a wonderful way to spend ti...          1\n",
              "3  Basically there's a family where a little boy ...          0\n",
              "4  Petter Mattei's \"Love in the Time of Money\" is...          1"
            ],
            "text/html": [
              "\n",
              "  <div id=\"df-1753638c-7609-4165-aee7-d76311ebf81c\">\n",
              "    <div class=\"colab-df-container\">\n",
              "      <div>\n",
              "<style scoped>\n",
              "    .dataframe tbody tr th:only-of-type {\n",
              "        vertical-align: middle;\n",
              "    }\n",
              "\n",
              "    .dataframe tbody tr th {\n",
              "        vertical-align: top;\n",
              "    }\n",
              "\n",
              "    .dataframe thead th {\n",
              "        text-align: right;\n",
              "    }\n",
              "</style>\n",
              "<table border=\"1\" class=\"dataframe\">\n",
              "  <thead>\n",
              "    <tr style=\"text-align: right;\">\n",
              "      <th></th>\n",
              "      <th>review</th>\n",
              "      <th>sentiment</th>\n",
              "    </tr>\n",
              "  </thead>\n",
              "  <tbody>\n",
              "    <tr>\n",
              "      <th>0</th>\n",
              "      <td>One of the other reviewers has mentioned that ...</td>\n",
              "      <td>1</td>\n",
              "    </tr>\n",
              "    <tr>\n",
              "      <th>1</th>\n",
              "      <td>A wonderful little production. &lt;br /&gt;&lt;br /&gt;The...</td>\n",
              "      <td>1</td>\n",
              "    </tr>\n",
              "    <tr>\n",
              "      <th>2</th>\n",
              "      <td>I thought this was a wonderful way to spend ti...</td>\n",
              "      <td>1</td>\n",
              "    </tr>\n",
              "    <tr>\n",
              "      <th>3</th>\n",
              "      <td>Basically there's a family where a little boy ...</td>\n",
              "      <td>0</td>\n",
              "    </tr>\n",
              "    <tr>\n",
              "      <th>4</th>\n",
              "      <td>Petter Mattei's \"Love in the Time of Money\" is...</td>\n",
              "      <td>1</td>\n",
              "    </tr>\n",
              "  </tbody>\n",
              "</table>\n",
              "</div>\n",
              "      <button class=\"colab-df-convert\" onclick=\"convertToInteractive('df-1753638c-7609-4165-aee7-d76311ebf81c')\"\n",
              "              title=\"Convert this dataframe to an interactive table.\"\n",
              "              style=\"display:none;\">\n",
              "        \n",
              "  <svg xmlns=\"http://www.w3.org/2000/svg\" height=\"24px\"viewBox=\"0 0 24 24\"\n",
              "       width=\"24px\">\n",
              "    <path d=\"M0 0h24v24H0V0z\" fill=\"none\"/>\n",
              "    <path d=\"M18.56 5.44l.94 2.06.94-2.06 2.06-.94-2.06-.94-.94-2.06-.94 2.06-2.06.94zm-11 1L8.5 8.5l.94-2.06 2.06-.94-2.06-.94L8.5 2.5l-.94 2.06-2.06.94zm10 10l.94 2.06.94-2.06 2.06-.94-2.06-.94-.94-2.06-.94 2.06-2.06.94z\"/><path d=\"M17.41 7.96l-1.37-1.37c-.4-.4-.92-.59-1.43-.59-.52 0-1.04.2-1.43.59L10.3 9.45l-7.72 7.72c-.78.78-.78 2.05 0 2.83L4 21.41c.39.39.9.59 1.41.59.51 0 1.02-.2 1.41-.59l7.78-7.78 2.81-2.81c.8-.78.8-2.07 0-2.86zM5.41 20L4 18.59l7.72-7.72 1.47 1.35L5.41 20z\"/>\n",
              "  </svg>\n",
              "      </button>\n",
              "      \n",
              "  <style>\n",
              "    .colab-df-container {\n",
              "      display:flex;\n",
              "      flex-wrap:wrap;\n",
              "      gap: 12px;\n",
              "    }\n",
              "\n",
              "    .colab-df-convert {\n",
              "      background-color: #E8F0FE;\n",
              "      border: none;\n",
              "      border-radius: 50%;\n",
              "      cursor: pointer;\n",
              "      display: none;\n",
              "      fill: #1967D2;\n",
              "      height: 32px;\n",
              "      padding: 0 0 0 0;\n",
              "      width: 32px;\n",
              "    }\n",
              "\n",
              "    .colab-df-convert:hover {\n",
              "      background-color: #E2EBFA;\n",
              "      box-shadow: 0px 1px 2px rgba(60, 64, 67, 0.3), 0px 1px 3px 1px rgba(60, 64, 67, 0.15);\n",
              "      fill: #174EA6;\n",
              "    }\n",
              "\n",
              "    [theme=dark] .colab-df-convert {\n",
              "      background-color: #3B4455;\n",
              "      fill: #D2E3FC;\n",
              "    }\n",
              "\n",
              "    [theme=dark] .colab-df-convert:hover {\n",
              "      background-color: #434B5C;\n",
              "      box-shadow: 0px 1px 3px 1px rgba(0, 0, 0, 0.15);\n",
              "      filter: drop-shadow(0px 1px 2px rgba(0, 0, 0, 0.3));\n",
              "      fill: #FFFFFF;\n",
              "    }\n",
              "  </style>\n",
              "\n",
              "      <script>\n",
              "        const buttonEl =\n",
              "          document.querySelector('#df-1753638c-7609-4165-aee7-d76311ebf81c button.colab-df-convert');\n",
              "        buttonEl.style.display =\n",
              "          google.colab.kernel.accessAllowed ? 'block' : 'none';\n",
              "\n",
              "        async function convertToInteractive(key) {\n",
              "          const element = document.querySelector('#df-1753638c-7609-4165-aee7-d76311ebf81c');\n",
              "          const dataTable =\n",
              "            await google.colab.kernel.invokeFunction('convertToInteractive',\n",
              "                                                     [key], {});\n",
              "          if (!dataTable) return;\n",
              "\n",
              "          const docLinkHtml = 'Like what you see? Visit the ' +\n",
              "            '<a target=\"_blank\" href=https://colab.research.google.com/notebooks/data_table.ipynb>data table notebook</a>'\n",
              "            + ' to learn more about interactive tables.';\n",
              "          element.innerHTML = '';\n",
              "          dataTable['output_type'] = 'display_data';\n",
              "          await google.colab.output.renderOutput(dataTable, element);\n",
              "          const docLink = document.createElement('div');\n",
              "          docLink.innerHTML = docLinkHtml;\n",
              "          element.appendChild(docLink);\n",
              "        }\n",
              "      </script>\n",
              "    </div>\n",
              "  </div>\n",
              "  "
            ]
          },
          "metadata": {},
          "execution_count": 7
        }
      ],
      "source": [
        "data.head()"
      ],
      "id": "sH9xoVfdgND_"
    },
    {
      "cell_type": "markdown",
      "metadata": {
        "id": "ZdqoP1K_gND_"
      },
      "source": [
        "### Exploring Data"
      ],
      "id": "ZdqoP1K_gND_"
    },
    {
      "cell_type": "markdown",
      "metadata": {
        "id": "G1lPpIDGgNEA"
      },
      "source": [
        "#### Positive Review Example"
      ],
      "id": "G1lPpIDGgNEA"
    },
    {
      "cell_type": "code",
      "execution_count": 8,
      "metadata": {
        "colab": {
          "base_uri": "https://localhost:8080/",
          "height": 145
        },
        "id": "VrZJx1yEgNEB",
        "outputId": "74c0cdeb-1869-42b3-e0a1-2396515771ae"
      },
      "outputs": [
        {
          "output_type": "execute_result",
          "data": {
            "text/plain": [
              "'Also known as \"Stairway to Heaven\" in the US. During WWII British Peter Carter\\'s (David Niven) plane is shot down in combat but he survives. He meets and falls in love with lovely June (Kim Hunter). But it seems a mistake was made in Heaven--he should have died! A French spirit comes to get him but he refuses. He is soon to plead his case in front of a Heavenly Tribunal that he should be allowed to live.<br /><br />Sounds ridiculous but this is actually an incredible film. The script is good with the actors playing the roles completely straight-faced and it\\'s beautifully directed--the scenes on Earth are in breath-taking Technicolor (I\\'ve never seen such beautiful blue skies) and the scenes in Heaven are in black and white! Niven is a little stiff at times but Hunter is just great (and very beautiful) and Roger Livesey is superb as a doctor trying to help Niven. The imagery throughout is amazing (especially the staircase and during the final trial sequence) and the special effects are truly great (considering the age of the film). There\\'s also a very strange sequence when Niven runs into a totally nude young boy herding sheep! This is an absolutely beautiful, thought provoking film--highly recommended. This remains unknown in the US which is a shame.'"
            ],
            "application/vnd.google.colaboratory.intrinsic+json": {
              "type": "string"
            }
          },
          "metadata": {},
          "execution_count": 8
        }
      ],
      "source": [
        "positive = data[data.sentiment == 1].sample(n = 1)['review'].iloc[0]\n",
        "positive"
      ],
      "id": "VrZJx1yEgNEB"
    },
    {
      "cell_type": "markdown",
      "metadata": {
        "id": "BBH2oYS7gNEC"
      },
      "source": [
        "#### Negative Review Example"
      ],
      "id": "BBH2oYS7gNEC"
    },
    {
      "cell_type": "code",
      "execution_count": 9,
      "metadata": {
        "colab": {
          "base_uri": "https://localhost:8080/",
          "height": 127
        },
        "id": "r4_92IH4gNED",
        "outputId": "c2cc3d7b-4af7-404d-9f6b-bedf1694ef24"
      },
      "outputs": [
        {
          "output_type": "execute_result",
          "data": {
            "text/plain": [
              "'Stereotyped, derivative, unoriginal and boring Western. The two popular stars (Charlton Heston and James Coburn) both give performances that are far from their best, and justifiably so; they both have superficial roles and character traits stated mainly by dialogue. Heston is a sheriff who \"liked the world better as it used to be before\" and Coburn is an outlaw who \"owes something to the man who locked him up and has to pay his debt\". Additionally, Heston is so old that he has trouble riding a horse and Coburn is mean and tough but not as cold-blooded a killer as some of the minor villains. Apparently, the filmmakers couldn\\'t come up with even ONE original idea about how to make this movie somewhat distinguished. (*1/2)'"
            ],
            "application/vnd.google.colaboratory.intrinsic+json": {
              "type": "string"
            }
          },
          "metadata": {},
          "execution_count": 9
        }
      ],
      "source": [
        "negative = data[data.sentiment == 0].sample(n = 1)['review'].iloc[0]\n",
        "negative"
      ],
      "id": "r4_92IH4gNED"
    },
    {
      "cell_type": "code",
      "execution_count": 10,
      "metadata": {
        "colab": {
          "base_uri": "https://localhost:8080/",
          "height": 548
        },
        "id": "G8w-KB6zgNEE",
        "outputId": "cd385fc9-8145-4175-fe42-12c1d13b694e"
      },
      "outputs": [
        {
          "output_type": "display_data",
          "data": {
            "text/plain": [
              "<Figure size 1080x540 with 1 Axes>"
            ],
            "image/png": "[encoded data removed]"
          },
          "metadata": {
            "needs_background": "light"
          }
        }
      ],
      "source": [
        "fig, axs = plt.subplots(figsize = (15,7.5))\n",
        "\n",
        "data['sentiment'].value_counts().plot.bar(color = ['red', 'green'])\n",
        "\n",
        "plt.xticks(np.arange(2), ('Positive', 'Negative'), fontsize = 14)\n",
        "axs.set_title('IMDB Reviews', fontsize = 18)\n",
        "axs.set_xlabel('Sentiment', fontsize = 16)\n",
        "axs.set_ylabel('Reviews Count', fontsize = 16)\n",
        "axs.grid()\n",
        "plt.show()"
      ],
      "id": "G8w-KB6zgNEE"
    },
    {
      "cell_type": "code",
      "execution_count": 11,
      "metadata": {
        "colab": {
          "base_uri": "https://localhost:8080/"
        },
        "id": "WzSL52TngNEF",
        "outputId": "4b5b8bb7-3378-4510-bf13-3cc6c66566e2"
      },
      "outputs": [
        {
          "output_type": "execute_result",
          "data": {
            "text/plain": [
              "1    25000\n",
              "0    25000\n",
              "Name: sentiment, dtype: int64"
            ]
          },
          "metadata": {},
          "execution_count": 11
        }
      ],
      "source": [
        "data.sentiment.value_counts()"
      ],
      "id": "WzSL52TngNEF"
    },
    {
      "cell_type": "markdown",
      "metadata": {
        "id": "lpJJ-JAMgNEF"
      },
      "source": [
        "#### 1) Removing HTML Tags using Regular Expression"
      ],
      "id": "lpJJ-JAMgNEF"
    },
    {
      "cell_type": "code",
      "execution_count": 12,
      "metadata": {
        "colab": {
          "base_uri": "https://localhost:8080/"
        },
        "id": "6xBuPcpygNEG",
        "outputId": "6a6bf3f6-7268-40c9-cf6e-18b82d88a79c"
      },
      "outputs": [
        {
          "output_type": "execute_result",
          "data": {
            "text/plain": [
              "0        One of the other reviewers has mentioned that ...\n",
              "1        A wonderful little production. <br /><br />The...\n",
              "2        I thought this was a wonderful way to spend ti...\n",
              "3        Basically there's a family where a little boy ...\n",
              "4        Petter Mattei's \"Love in the Time of Money\" is...\n",
              "                               ...                        \n",
              "49995    I thought this movie did a down right good job...\n",
              "49996    Bad plot, bad dialogue, bad acting, idiotic di...\n",
              "49997    I am a Catholic taught in parochial elementary...\n",
              "49998    I'm going to have to disagree with the previou...\n",
              "49999    No one expects the Star Trek movies to be high...\n",
              "Name: review, Length: 50000, dtype: object"
            ]
          },
          "metadata": {},
          "execution_count": 12
        }
      ],
      "source": [
        "data.review"
      ],
      "id": "6xBuPcpygNEG"
    },
    {
      "cell_type": "markdown",
      "metadata": {
        "id": "luE3-2wpgNEG"
      },
      "source": [
        "#### Dealing with the stopwords"
      ],
      "id": "luE3-2wpgNEG"
    },
    {
      "cell_type": "code",
      "source": [
        "import nltk\n",
        "nltk.download('stopwords')\n",
        "nltk.download('wordnet')\n",
        "nltk.download('omw-1.4')"
      ],
      "metadata": {
        "colab": {
          "base_uri": "https://localhost:8080/"
        },
        "id": "xr1l5MWdqHpF",
        "outputId": "2d00d5ac-de1a-4b54-ac31-a1e72d27d90b"
      },
      "id": "xr1l5MWdqHpF",
      "execution_count": 13,
      "outputs": [
        {
          "output_type": "stream",
          "name": "stderr",
          "text": [
            "[nltk_data] Downloading package stopwords to /root/nltk_data...\n",
            "[nltk_data]   Package stopwords is already up-to-date!\n",
            "[nltk_data] Downloading package wordnet to /root/nltk_data...\n",
            "[nltk_data]   Package wordnet is already up-to-date!\n",
            "[nltk_data] Downloading package omw-1.4 to /root/nltk_data...\n",
            "[nltk_data]   Package omw-1.4 is already up-to-date!\n"
          ]
        },
        {
          "output_type": "execute_result",
          "data": {
            "text/plain": [
              "True"
            ]
          },
          "metadata": {},
          "execution_count": 13
        }
      ]
    },
    {
      "cell_type": "code",
      "execution_count": 14,
      "metadata": {
        "id": "7VrFUGUwgNEH"
      },
      "outputs": [],
      "source": [
        "from nltk.tokenize import sent_tokenize, word_tokenize\n",
        "from nltk.corpus import stopwords\n",
        "from nltk.stem import WordNetLemmatizer"
      ],
      "id": "7VrFUGUwgNEH"
    },
    {
      "cell_type": "code",
      "execution_count": 15,
      "metadata": {
        "id": "c4cAVKfjgNEH"
      },
      "outputs": [],
      "source": [
        "stop_words = set(stopwords.words('english'))"
      ],
      "id": "c4cAVKfjgNEH"
    },
    {
      "cell_type": "code",
      "execution_count": 16,
      "metadata": {
        "id": "1appAVGKgNEH"
      },
      "outputs": [],
      "source": [
        "import re"
      ],
      "id": "1appAVGKgNEH"
    },
    {
      "cell_type": "markdown",
      "metadata": {
        "id": "rk3_LVwTgNEI"
      },
      "source": [
        "#### Preprocessing "
      ],
      "id": "rk3_LVwTgNEI"
    },
    {
      "cell_type": "markdown",
      "metadata": {
        "id": "ncuHvCeygNEI"
      },
      "source": [
        "****Removing HTML tags****\n",
        "\n",
        "****Removing irrelevant characters****\n",
        "\n",
        "****Converting entire corpus into lower case****\n",
        "\n",
        "****Removing stopwords****\n",
        "\n",
        "****Converting entire dataset into lowercase****\n",
        "\n",
        "****Tokenization****\n",
        "\n",
        "****Normalization (Lemmatization)****"
      ],
      "id": "ncuHvCeygNEI"
    },
    {
      "cell_type": "code",
      "source": [
        "nltk.download('punkt')"
      ],
      "metadata": {
        "colab": {
          "base_uri": "https://localhost:8080/"
        },
        "id": "ZeSDgbD9r5e4",
        "outputId": "695c176e-5a0e-42b4-9f59-c03f4eae0ae0"
      },
      "id": "ZeSDgbD9r5e4",
      "execution_count": 17,
      "outputs": [
        {
          "output_type": "stream",
          "name": "stderr",
          "text": [
            "[nltk_data] Downloading package punkt to /root/nltk_data...\n",
            "[nltk_data]   Package punkt is already up-to-date!\n"
          ]
        },
        {
          "output_type": "execute_result",
          "data": {
            "text/plain": [
              "True"
            ]
          },
          "metadata": {},
          "execution_count": 17
        }
      ]
    },
    {
      "cell_type": "code",
      "execution_count": 18,
      "metadata": {
        "id": "WsTCDcaggNEI"
      },
      "outputs": [],
      "source": [
        "preprocessed_review = []\n",
        "for i in range(len(data.review)):\n",
        "    cleaning = re.compile('<.*?>')                          # Pattern for removing html tags\n",
        "    cleaning1 = re.compile('[^aA-zZ0-9]+')                  # Pattern for removing all the punctuations, commas, and other characters which can act as noise in data\n",
        "    review = re.sub(cleaning, '', data.review.iloc[i])      # First substituing all the html tags with empty space\n",
        "    review = re.sub(cleaning1, ' ', review)                 # Then substitutin all irrelevant characters with a single space\n",
        "    \n",
        "    review = review.lower()                                 # Converting all the text in reviews to lower case\n",
        "    \n",
        "    tokens = word_tokenize(review)                          # Splitting the reviews into individual words (tokenization)\n",
        "    \n",
        "    del review\n",
        "    \n",
        "    swords = []                                             # An empty list for storing all the words except stop words\n",
        "    for word in tokens:\n",
        "        if word not in stop_words:\n",
        "            swords.append(word)\n",
        "    del tokens\n",
        "    \n",
        "    lemmatizer = WordNetLemmatizer()                        # Normalization (Lemmatization)\n",
        "    \n",
        "    lemmas = []\n",
        "    for lemma in swords:\n",
        "        norm = lemmatizer.lemmatize(lemma)\n",
        "        lemmas.append(norm)\n",
        "    \n",
        "    del swords\n",
        "    \n",
        "    lemmas = ' '.join(lemmas)\n",
        "    preprocessed_review.append(lemmas)\n"
      ],
      "id": "WsTCDcaggNEI"
    },
    {
      "cell_type": "code",
      "execution_count": 19,
      "metadata": {
        "colab": {
          "base_uri": "https://localhost:8080/"
        },
        "id": "uzetAlVYgNEJ",
        "outputId": "f093e682-6c55-4bf2-b12a-8a42dfa283c1"
      },
      "outputs": [
        {
          "output_type": "stream",
          "name": "stdout",
          "text": [
            "wonderful little production filming technique unassuming old time bbc fashion give comforting sometimes discomforting sense realism entire piece actor extremely well chosen michael sheen got polari voice pat truly see seamless editing guided reference williams diary entry well worth watching terrificly written performed piece masterful production one great master comedy life realism really come home little thing fantasy guard rather use traditional dream technique remains solid disappears play knowledge sens particularly scene concerning orton halliwell set particularly flat halliwell mural decorating every surface terribly well done\n"
          ]
        }
      ],
      "source": [
        "print(preprocessed_review[1])"
      ],
      "id": "uzetAlVYgNEJ"
    },
    {
      "cell_type": "code",
      "execution_count": 20,
      "metadata": {
        "colab": {
          "base_uri": "https://localhost:8080/"
        },
        "id": "1bSPwq3NgNEJ",
        "outputId": "6d2b43da-eded-4bb0-8980-3525217e1c4a"
      },
      "outputs": [
        {
          "output_type": "execute_result",
          "data": {
            "text/plain": [
              "50000"
            ]
          },
          "metadata": {},
          "execution_count": 20
        }
      ],
      "source": [
        "len(preprocessed_review)"
      ],
      "id": "1bSPwq3NgNEJ"
    },
    {
      "cell_type": "code",
      "execution_count": 21,
      "metadata": {
        "scrolled": true,
        "colab": {
          "base_uri": "https://localhost:8080/"
        },
        "id": "ggSXRr61gNEK",
        "outputId": "63f9fe70-b731-4351-b25d-bee1651966a6"
      },
      "outputs": [
        {
          "output_type": "execute_result",
          "data": {
            "text/plain": [
              "0    1\n",
              "1    1\n",
              "2    1\n",
              "3    0\n",
              "4    1\n",
              "Name: sentiment, dtype: int64"
            ]
          },
          "metadata": {},
          "execution_count": 21
        }
      ],
      "source": [
        "y = data['sentiment']\n",
        "y.head()"
      ],
      "id": "ggSXRr61gNEK"
    },
    {
      "cell_type": "code",
      "execution_count": 22,
      "metadata": {
        "colab": {
          "base_uri": "https://localhost:8080/",
          "height": 206
        },
        "id": "48Wg6QXZgNEK",
        "outputId": "f56cc8b5-cbc1-4413-a2d3-a410ed890062"
      },
      "outputs": [
        {
          "output_type": "execute_result",
          "data": {
            "text/plain": [
              "                                              review\n",
              "0  One of the other reviewers has mentioned that ...\n",
              "1  A wonderful little production. <br /><br />The...\n",
              "2  I thought this was a wonderful way to spend ti...\n",
              "3  Basically there's a family where a little boy ...\n",
              "4  Petter Mattei's \"Love in the Time of Money\" is..."
            ],
            "text/html": [
              "\n",
              "  <div id=\"df-374d1697-f602-415e-8d4d-556e88d87897\">\n",
              "    <div class=\"colab-df-container\">\n",
              "      <div>\n",
              "<style scoped>\n",
              "    .dataframe tbody tr th:only-of-type {\n",
              "        vertical-align: middle;\n",
              "    }\n",
              "\n",
              "    .dataframe tbody tr th {\n",
              "        vertical-align: top;\n",
              "    }\n",
              "\n",
              "    .dataframe thead th {\n",
              "        text-align: right;\n",
              "    }\n",
              "</style>\n",
              "<table border=\"1\" class=\"dataframe\">\n",
              "  <thead>\n",
              "    <tr style=\"text-align: right;\">\n",
              "      <th></th>\n",
              "      <th>review</th>\n",
              "    </tr>\n",
              "  </thead>\n",
              "  <tbody>\n",
              "    <tr>\n",
              "      <th>0</th>\n",
              "      <td>One of the other reviewers has mentioned that ...</td>\n",
              "    </tr>\n",
              "    <tr>\n",
              "      <th>1</th>\n",
              "      <td>A wonderful little production. &lt;br /&gt;&lt;br /&gt;The...</td>\n",
              "    </tr>\n",
              "    <tr>\n",
              "      <th>2</th>\n",
              "      <td>I thought this was a wonderful way to spend ti...</td>\n",
              "    </tr>\n",
              "    <tr>\n",
              "      <th>3</th>\n",
              "      <td>Basically there's a family where a little boy ...</td>\n",
              "    </tr>\n",
              "    <tr>\n",
              "      <th>4</th>\n",
              "      <td>Petter Mattei's \"Love in the Time of Money\" is...</td>\n",
              "    </tr>\n",
              "  </tbody>\n",
              "</table>\n",
              "</div>\n",
              "      <button class=\"colab-df-convert\" onclick=\"convertToInteractive('df-374d1697-f602-415e-8d4d-556e88d87897')\"\n",
              "              title=\"Convert this dataframe to an interactive table.\"\n",
              "              style=\"display:none;\">\n",
              "        \n",
              "  <svg xmlns=\"http://www.w3.org/2000/svg\" height=\"24px\"viewBox=\"0 0 24 24\"\n",
              "       width=\"24px\">\n",
              "    <path d=\"M0 0h24v24H0V0z\" fill=\"none\"/>\n",
              "    <path d=\"M18.56 5.44l.94 2.06.94-2.06 2.06-.94-2.06-.94-.94-2.06-.94 2.06-2.06.94zm-11 1L8.5 8.5l.94-2.06 2.06-.94-2.06-.94L8.5 2.5l-.94 2.06-2.06.94zm10 10l.94 2.06.94-2.06 2.06-.94-2.06-.94-.94-2.06-.94 2.06-2.06.94z\"/><path d=\"M17.41 7.96l-1.37-1.37c-.4-.4-.92-.59-1.43-.59-.52 0-1.04.2-1.43.59L10.3 9.45l-7.72 7.72c-.78.78-.78 2.05 0 2.83L4 21.41c.39.39.9.59 1.41.59.51 0 1.02-.2 1.41-.59l7.78-7.78 2.81-2.81c.8-.78.8-2.07 0-2.86zM5.41 20L4 18.59l7.72-7.72 1.47 1.35L5.41 20z\"/>\n",
              "  </svg>\n",
              "      </button>\n",
              "      \n",
              "  <style>\n",
              "    .colab-df-container {\n",
              "      display:flex;\n",
              "      flex-wrap:wrap;\n",
              "      gap: 12px;\n",
              "    }\n",
              "\n",
              "    .colab-df-convert {\n",
              "      background-color: #E8F0FE;\n",
              "      border: none;\n",
              "      border-radius: 50%;\n",
              "      cursor: pointer;\n",
              "      display: none;\n",
              "      fill: #1967D2;\n",
              "      height: 32px;\n",
              "      padding: 0 0 0 0;\n",
              "      width: 32px;\n",
              "    }\n",
              "\n",
              "    .colab-df-convert:hover {\n",
              "      background-color: #E2EBFA;\n",
              "      box-shadow: 0px 1px 2px rgba(60, 64, 67, 0.3), 0px 1px 3px 1px rgba(60, 64, 67, 0.15);\n",
              "      fill: #174EA6;\n",
              "    }\n",
              "\n",
              "    [theme=dark] .colab-df-convert {\n",
              "      background-color: #3B4455;\n",
              "      fill: #D2E3FC;\n",
              "    }\n",
              "\n",
              "    [theme=dark] .colab-df-convert:hover {\n",
              "      background-color: #434B5C;\n",
              "      box-shadow: 0px 1px 3px 1px rgba(0, 0, 0, 0.15);\n",
              "      filter: drop-shadow(0px 1px 2px rgba(0, 0, 0, 0.3));\n",
              "      fill: #FFFFFF;\n",
              "    }\n",
              "  </style>\n",
              "\n",
              "      <script>\n",
              "        const buttonEl =\n",
              "          document.querySelector('#df-374d1697-f602-415e-8d4d-556e88d87897 button.colab-df-convert');\n",
              "        buttonEl.style.display =\n",
              "          google.colab.kernel.accessAllowed ? 'block' : 'none';\n",
              "\n",
              "        async function convertToInteractive(key) {\n",
              "          const element = document.querySelector('#df-374d1697-f602-415e-8d4d-556e88d87897');\n",
              "          const dataTable =\n",
              "            await google.colab.kernel.invokeFunction('convertToInteractive',\n",
              "                                                     [key], {});\n",
              "          if (!dataTable) return;\n",
              "\n",
              "          const docLinkHtml = 'Like what you see? Visit the ' +\n",
              "            '<a target=\"_blank\" href=https://colab.research.google.com/notebooks/data_table.ipynb>data table notebook</a>'\n",
              "            + ' to learn more about interactive tables.';\n",
              "          element.innerHTML = '';\n",
              "          dataTable['output_type'] = 'display_data';\n",
              "          await google.colab.output.renderOutput(dataTable, element);\n",
              "          const docLink = document.createElement('div');\n",
              "          docLink.innerHTML = docLinkHtml;\n",
              "          element.appendChild(docLink);\n",
              "        }\n",
              "      </script>\n",
              "    </div>\n",
              "  </div>\n",
              "  "
            ]
          },
          "metadata": {},
          "execution_count": 22
        }
      ],
      "source": [
        "X = data.drop(['sentiment'], axis = 1)\n",
        "X.head()"
      ],
      "id": "48Wg6QXZgNEK"
    },
    {
      "cell_type": "code",
      "execution_count": 23,
      "metadata": {
        "colab": {
          "base_uri": "https://localhost:8080/"
        },
        "id": "USZ-_foTgNEK",
        "outputId": "12f245e1-f6be-45db-ff54-9b30848b080a"
      },
      "outputs": [
        {
          "output_type": "execute_result",
          "data": {
            "text/plain": [
              "(50000, 1)"
            ]
          },
          "metadata": {},
          "execution_count": 23
        }
      ],
      "source": [
        "X.shape"
      ],
      "id": "USZ-_foTgNEK"
    },
    {
      "cell_type": "markdown",
      "metadata": {
        "id": "7XW69W_jgNEK"
      },
      "source": [
        "### Keras Text Tokenizer Vectorization"
      ],
      "id": "7XW69W_jgNEK"
    },
    {
      "cell_type": "code",
      "execution_count": 24,
      "metadata": {
        "id": "YcUdFEtngNEL"
      },
      "outputs": [],
      "source": [
        "import tensorflow as tf\n"
      ],
      "id": "YcUdFEtngNEL"
    },
    {
      "cell_type": "code",
      "execution_count": 25,
      "metadata": {
        "id": "IH7nKUB1gNEL"
      },
      "outputs": [],
      "source": [
        "vocabulary = 15000\n",
        "embedding = 20\n",
        "max_length = 150\n",
        "trunc_type = 'post'\n",
        "oov_tok = ''"
      ],
      "id": "IH7nKUB1gNEL"
    },
    {
      "cell_type": "code",
      "execution_count": 26,
      "metadata": {
        "id": "DSG4oEvJgNEL"
      },
      "outputs": [],
      "source": [
        "from tensorflow.keras.preprocessing.text import Tokenizer\n",
        "from tensorflow.keras.preprocessing.sequence import pad_sequences"
      ],
      "id": "DSG4oEvJgNEL"
    },
    {
      "cell_type": "code",
      "execution_count": 27,
      "metadata": {
        "colab": {
          "base_uri": "https://localhost:8080/"
        },
        "id": "AS8AksnhgNEL",
        "outputId": "c39b4375-f5ed-4cfb-a648-73ce614eb2d8"
      },
      "outputs": [
        {
          "output_type": "execute_result",
          "data": {
            "text/plain": [
              "{'': 1,\n",
              " 'movie': 2,\n",
              " 'film': 3,\n",
              " 'one': 4,\n",
              " 'like': 5,\n",
              " 'time': 6,\n",
              " 'good': 7,\n",
              " 'character': 8,\n",
              " 'story': 9,\n",
              " 'even': 10,\n",
              " 'get': 11,\n",
              " 'would': 12,\n",
              " 'make': 13,\n",
              " 'see': 14,\n",
              " 'really': 15,\n",
              " 'well': 16,\n",
              " 'scene': 17,\n",
              " 'much': 18,\n",
              " 'bad': 19,\n",
              " 'people': 20,\n",
              " 'great': 21,\n",
              " 'also': 22,\n",
              " 'first': 23,\n",
              " 'show': 24,\n",
              " 'way': 25,\n",
              " 'thing': 26,\n",
              " 'made': 27,\n",
              " 'life': 28,\n",
              " 'could': 29,\n",
              " 'think': 30,\n",
              " 'go': 31,\n",
              " 'know': 32,\n",
              " 'watch': 33,\n",
              " 'love': 34,\n",
              " 'plot': 35,\n",
              " 'actor': 36,\n",
              " 'two': 37,\n",
              " 'many': 38,\n",
              " 'seen': 39,\n",
              " 'year': 40,\n",
              " 'say': 41,\n",
              " 'end': 42,\n",
              " 'never': 43,\n",
              " 'acting': 44,\n",
              " 'look': 45,\n",
              " 'best': 46,\n",
              " 'little': 47,\n",
              " 'ever': 48,\n",
              " 'man': 49,\n",
              " 'better': 50,\n",
              " 'take': 51,\n",
              " 'come': 52,\n",
              " 'work': 53,\n",
              " 'still': 54,\n",
              " 'part': 55,\n",
              " 'something': 56,\n",
              " 'director': 57,\n",
              " 'find': 58,\n",
              " 'want': 59,\n",
              " 'back': 60,\n",
              " 'give': 61,\n",
              " 'lot': 62,\n",
              " 'real': 63,\n",
              " 'guy': 64,\n",
              " 'watching': 65,\n",
              " 'performance': 66,\n",
              " 'woman': 67,\n",
              " 'play': 68,\n",
              " 'old': 69,\n",
              " 'funny': 70,\n",
              " 'though': 71,\n",
              " 'another': 72,\n",
              " '10': 73,\n",
              " 'actually': 74,\n",
              " 'nothing': 75,\n",
              " 'role': 76,\n",
              " 'u': 77,\n",
              " 'going': 78,\n",
              " 'new': 79,\n",
              " 'every': 80,\n",
              " 'girl': 81,\n",
              " 'day': 82,\n",
              " 'world': 83,\n",
              " 'point': 84,\n",
              " 'cast': 85,\n",
              " 'horror': 86,\n",
              " 'comedy': 87,\n",
              " 'minute': 88,\n",
              " 'thought': 89,\n",
              " 'fact': 90,\n",
              " 'feel': 91,\n",
              " 'quite': 92,\n",
              " 'pretty': 93,\n",
              " 'got': 94,\n",
              " 'star': 95,\n",
              " 'action': 96,\n",
              " 'around': 97,\n",
              " 'seems': 98,\n",
              " 'young': 99,\n",
              " 'big': 100,\n",
              " 'however': 101,\n",
              " 'right': 102,\n",
              " 'enough': 103,\n",
              " 'long': 104,\n",
              " 'line': 105,\n",
              " 'fan': 106,\n",
              " 'may': 107,\n",
              " 'friend': 108,\n",
              " 'bit': 109,\n",
              " 'series': 110,\n",
              " 'must': 111,\n",
              " 'music': 112,\n",
              " 'set': 113,\n",
              " 'without': 114,\n",
              " 'original': 115,\n",
              " 'family': 116,\n",
              " 'saw': 117,\n",
              " 'always': 118,\n",
              " 'almost': 119,\n",
              " 'script': 120,\n",
              " 'interesting': 121,\n",
              " 'done': 122,\n",
              " 'whole': 123,\n",
              " 'least': 124,\n",
              " 'kid': 125,\n",
              " 'try': 126,\n",
              " 'shot': 127,\n",
              " 'far': 128,\n",
              " 'kind': 129,\n",
              " 'effect': 130,\n",
              " 'last': 131,\n",
              " 'making': 132,\n",
              " '2': 133,\n",
              " 'might': 134,\n",
              " 'anything': 135,\n",
              " 'since': 136,\n",
              " 'reason': 137,\n",
              " 'tv': 138,\n",
              " 'start': 139,\n",
              " 'book': 140,\n",
              " 'probably': 141,\n",
              " 'child': 142,\n",
              " 'place': 143,\n",
              " 'put': 144,\n",
              " 'away': 145,\n",
              " 'yet': 146,\n",
              " 'moment': 147,\n",
              " 'fun': 148,\n",
              " 'let': 149,\n",
              " 'anyone': 150,\n",
              " 'worst': 151,\n",
              " 'american': 152,\n",
              " 'sure': 153,\n",
              " 'rather': 154,\n",
              " 'hard': 155,\n",
              " 'audience': 156,\n",
              " 'idea': 157,\n",
              " 'played': 158,\n",
              " 'screen': 159,\n",
              " 'found': 160,\n",
              " 'need': 161,\n",
              " 'dvd': 162,\n",
              " 'turn': 163,\n",
              " 'war': 164,\n",
              " 'tell': 165,\n",
              " 'looking': 166,\n",
              " 'although': 167,\n",
              " 'especially': 168,\n",
              " 'believe': 169,\n",
              " 'ending': 170,\n",
              " 'episode': 171,\n",
              " 'course': 172,\n",
              " 'trying': 173,\n",
              " 'mean': 174,\n",
              " 'everything': 175,\n",
              " 'job': 176,\n",
              " 'maybe': 177,\n",
              " 'three': 178,\n",
              " 'worth': 179,\n",
              " 'different': 180,\n",
              " 'someone': 181,\n",
              " 'main': 182,\n",
              " 'sense': 183,\n",
              " 'problem': 184,\n",
              " 'boy': 185,\n",
              " 'night': 186,\n",
              " 'version': 187,\n",
              " 'money': 188,\n",
              " 'true': 189,\n",
              " 'watched': 190,\n",
              " 'keep': 191,\n",
              " 'second': 192,\n",
              " 'everyone': 193,\n",
              " 'together': 194,\n",
              " 'help': 195,\n",
              " 'high': 196,\n",
              " 'mind': 197,\n",
              " 'black': 198,\n",
              " 'half': 199,\n",
              " 'death': 200,\n",
              " 'instead': 201,\n",
              " 'said': 202,\n",
              " 'hour': 203,\n",
              " 'wife': 204,\n",
              " 'special': 205,\n",
              " 'le': 206,\n",
              " '1': 207,\n",
              " 'later': 208,\n",
              " 'laugh': 209,\n",
              " 'john': 210,\n",
              " 'house': 211,\n",
              " 'seem': 212,\n",
              " 'beautiful': 213,\n",
              " 'left': 214,\n",
              " 'short': 215,\n",
              " 'seeing': 216,\n",
              " 'lead': 217,\n",
              " 'excellent': 218,\n",
              " 'sound': 219,\n",
              " 'name': 220,\n",
              " 'classic': 221,\n",
              " 'father': 222,\n",
              " 'eye': 223,\n",
              " 'face': 224,\n",
              " 'else': 225,\n",
              " 'budget': 226,\n",
              " 'production': 227,\n",
              " 'read': 228,\n",
              " 'viewer': 229,\n",
              " 'piece': 230,\n",
              " 'top': 231,\n",
              " 'used': 232,\n",
              " 'nice': 233,\n",
              " 'simply': 234,\n",
              " 'poor': 235,\n",
              " 'completely': 236,\n",
              " '3': 237,\n",
              " 'home': 238,\n",
              " 'men': 239,\n",
              " 'camera': 240,\n",
              " 'human': 241,\n",
              " 'picture': 242,\n",
              " 'along': 243,\n",
              " 'video': 244,\n",
              " 'song': 245,\n",
              " 'head': 246,\n",
              " 'dead': 247,\n",
              " 'word': 248,\n",
              " 'hollywood': 249,\n",
              " 'hand': 250,\n",
              " 'school': 251,\n",
              " 'either': 252,\n",
              " 'couple': 253,\n",
              " 'boring': 254,\n",
              " 'wrong': 255,\n",
              " 'low': 256,\n",
              " 'enjoy': 257,\n",
              " 'use': 258,\n",
              " 'given': 259,\n",
              " 'full': 260,\n",
              " 'stupid': 261,\n",
              " 'rest': 262,\n",
              " 'next': 263,\n",
              " 'writer': 264,\n",
              " 'sex': 265,\n",
              " 'truly': 266,\n",
              " 'awful': 267,\n",
              " 'kill': 268,\n",
              " 'run': 269,\n",
              " 'hope': 270,\n",
              " 'mr': 271,\n",
              " 'game': 272,\n",
              " 'person': 273,\n",
              " 'recommend': 274,\n",
              " 'style': 275,\n",
              " 'title': 276,\n",
              " 'mother': 277,\n",
              " 'terrible': 278,\n",
              " 'remember': 279,\n",
              " 'sort': 280,\n",
              " 'getting': 281,\n",
              " 'came': 282,\n",
              " 'dialogue': 283,\n",
              " 'case': 284,\n",
              " 'understand': 285,\n",
              " 'perhaps': 286,\n",
              " 'flick': 287,\n",
              " 'act': 288,\n",
              " 'joke': 289,\n",
              " 'wonderful': 290,\n",
              " 'care': 291,\n",
              " 'playing': 292,\n",
              " 'attempt': 293,\n",
              " 'small': 294,\n",
              " 'others': 295,\n",
              " 'fall': 296,\n",
              " 'perfect': 297,\n",
              " 'sequence': 298,\n",
              " 'early': 299,\n",
              " 'review': 300,\n",
              " 'often': 301,\n",
              " 'art': 302,\n",
              " 'drama': 303,\n",
              " 'written': 304,\n",
              " 'definitely': 305,\n",
              " 'brother': 306,\n",
              " 'killer': 307,\n",
              " 'actress': 308,\n",
              " 'cinema': 309,\n",
              " 'example': 310,\n",
              " 'quality': 311,\n",
              " 'went': 312,\n",
              " 'feeling': 313,\n",
              " 'finally': 314,\n",
              " 'yes': 315,\n",
              " 'absolutely': 316,\n",
              " 'live': 317,\n",
              " 'oh': 318,\n",
              " 'certainly': 319,\n",
              " 'lost': 320,\n",
              " 'car': 321,\n",
              " 'liked': 322,\n",
              " 'become': 323,\n",
              " 'entertaining': 324,\n",
              " 'worse': 325,\n",
              " 'side': 326,\n",
              " 'loved': 327,\n",
              " 'called': 328,\n",
              " 'white': 329,\n",
              " 'waste': 330,\n",
              " 'matter': 331,\n",
              " 'felt': 332,\n",
              " 'overall': 333,\n",
              " 'son': 334,\n",
              " 'based': 335,\n",
              " 'entire': 336,\n",
              " 'supposed': 337,\n",
              " 'several': 338,\n",
              " 'direction': 339,\n",
              " 'heart': 340,\n",
              " 'feature': 341,\n",
              " 'beginning': 342,\n",
              " 'lack': 343,\n",
              " 'comment': 344,\n",
              " '4': 345,\n",
              " 'begin': 346,\n",
              " '5': 347,\n",
              " 'hero': 348,\n",
              " 'favorite': 349,\n",
              " 'dark': 350,\n",
              " 'fight': 351,\n",
              " 'type': 352,\n",
              " 'murder': 353,\n",
              " 'totally': 354,\n",
              " 'evil': 355,\n",
              " 'humor': 356,\n",
              " 'wanted': 357,\n",
              " 'seemed': 358,\n",
              " 'despite': 359,\n",
              " 'guess': 360,\n",
              " 'final': 361,\n",
              " 'voice': 362,\n",
              " 'change': 363,\n",
              " 'b': 364,\n",
              " 'already': 365,\n",
              " 'throughout': 366,\n",
              " 'relationship': 367,\n",
              " 'hit': 368,\n",
              " 'becomes': 369,\n",
              " 'number': 370,\n",
              " 'meet': 371,\n",
              " 'genre': 372,\n",
              " 'able': 373,\n",
              " 'unfortunately': 374,\n",
              " 'michael': 375,\n",
              " 'history': 376,\n",
              " 'experience': 377,\n",
              " 'cut': 378,\n",
              " 'god': 379,\n",
              " 'stop': 380,\n",
              " 'today': 381,\n",
              " 'town': 382,\n",
              " 'daughter': 383,\n",
              " 'writing': 384,\n",
              " 'fine': 385,\n",
              " 'age': 386,\n",
              " 'city': 387,\n",
              " 'horrible': 388,\n",
              " 'close': 389,\n",
              " 'amazing': 390,\n",
              " 'group': 391,\n",
              " 'call': 392,\n",
              " 'move': 393,\n",
              " 'power': 394,\n",
              " 'talent': 395,\n",
              " 'past': 396,\n",
              " 'etc': 397,\n",
              " 'event': 398,\n",
              " 'stuff': 399,\n",
              " 'enjoyed': 400,\n",
              " 'brilliant': 401,\n",
              " 'behind': 402,\n",
              " 'gave': 403,\n",
              " 'robert': 404,\n",
              " 'credit': 405,\n",
              " 'directed': 406,\n",
              " 'level': 407,\n",
              " 'situation': 408,\n",
              " 'late': 409,\n",
              " 'add': 410,\n",
              " 'theme': 411,\n",
              " 'save': 412,\n",
              " 'body': 413,\n",
              " 'expect': 414,\n",
              " 'stand': 415,\n",
              " 'chance': 416,\n",
              " 'soon': 417,\n",
              " 'wonder': 418,\n",
              " 'obviously': 419,\n",
              " 'score': 420,\n",
              " 'sometimes': 421,\n",
              " 'self': 422,\n",
              " 'thinking': 423,\n",
              " 'killed': 424,\n",
              " 'question': 425,\n",
              " 'decent': 426,\n",
              " 'view': 427,\n",
              " 'highly': 428,\n",
              " 'light': 429,\n",
              " 'blood': 430,\n",
              " 'anyway': 431,\n",
              " 'known': 432,\n",
              " 'took': 433,\n",
              " 'heard': 434,\n",
              " 'happens': 435,\n",
              " 'except': 436,\n",
              " 'coming': 437,\n",
              " 'element': 438,\n",
              " 'monster': 439,\n",
              " 'country': 440,\n",
              " 'wish': 441,\n",
              " 'career': 442,\n",
              " 'slow': 443,\n",
              " 'talk': 444,\n",
              " 'documentary': 445,\n",
              " 'rating': 446,\n",
              " 'novel': 447,\n",
              " 'leave': 448,\n",
              " 'husband': 449,\n",
              " 'order': 450,\n",
              " 'police': 451,\n",
              " 'told': 452,\n",
              " 'interest': 453,\n",
              " 'extremely': 454,\n",
              " 'violence': 455,\n",
              " 'involved': 456,\n",
              " 'reality': 457,\n",
              " 'strong': 458,\n",
              " 'ok': 459,\n",
              " 'hilarious': 460,\n",
              " 'hell': 461,\n",
              " 'crap': 462,\n",
              " 'effort': 463,\n",
              " 'happen': 464,\n",
              " 'living': 465,\n",
              " 'particularly': 466,\n",
              " 'sister': 467,\n",
              " 'including': 468,\n",
              " 'opinion': 469,\n",
              " 'looked': 470,\n",
              " 'cool': 471,\n",
              " 'musical': 472,\n",
              " 'david': 473,\n",
              " 'simple': 474,\n",
              " 'twist': 475,\n",
              " 'please': 476,\n",
              " 'sequel': 477,\n",
              " 'obvious': 478,\n",
              " 'complete': 479,\n",
              " 'happened': 480,\n",
              " 'gore': 481,\n",
              " 'serious': 482,\n",
              " 'lady': 483,\n",
              " 'room': 484,\n",
              " 'deal': 485,\n",
              " 'james': 486,\n",
              " 'theater': 487,\n",
              " 'ago': 488,\n",
              " 'female': 489,\n",
              " 'thriller': 490,\n",
              " 'taken': 491,\n",
              " 'shown': 492,\n",
              " 'english': 493,\n",
              " 'cop': 494,\n",
              " 'seriously': 495,\n",
              " 'released': 496,\n",
              " 'zombie': 497,\n",
              " 'value': 498,\n",
              " 'opening': 499,\n",
              " 'dog': 500,\n",
              " 'miss': 501,\n",
              " 'alone': 502,\n",
              " 'none': 503,\n",
              " 'across': 504,\n",
              " 'dream': 505,\n",
              " 'sad': 506,\n",
              " 'possible': 507,\n",
              " 'exactly': 508,\n",
              " 'saying': 509,\n",
              " 'usually': 510,\n",
              " 'cinematography': 511,\n",
              " 'dialog': 512,\n",
              " 'running': 513,\n",
              " 'annoying': 514,\n",
              " 'spoiler': 515,\n",
              " 'class': 516,\n",
              " 'huge': 517,\n",
              " 'comic': 518,\n",
              " 'open': 519,\n",
              " 'major': 520,\n",
              " 'whose': 521,\n",
              " 'taking': 522,\n",
              " 'producer': 523,\n",
              " 'ridiculous': 524,\n",
              " '80': 525,\n",
              " 'stay': 526,\n",
              " 'local': 527,\n",
              " 'middle': 528,\n",
              " 'important': 529,\n",
              " 'jack': 530,\n",
              " 'four': 531,\n",
              " 'started': 532,\n",
              " 'message': 533,\n",
              " 'tale': 534,\n",
              " 'turned': 535,\n",
              " 'scary': 536,\n",
              " 'mostly': 537,\n",
              " 'team': 538,\n",
              " 'usual': 539,\n",
              " 'happy': 540,\n",
              " 'beyond': 541,\n",
              " 'rock': 542,\n",
              " 'hate': 543,\n",
              " 'silly': 544,\n",
              " 'somewhat': 545,\n",
              " 'attention': 546,\n",
              " 'street': 547,\n",
              " 'talking': 548,\n",
              " 'knew': 549,\n",
              " 'single': 550,\n",
              " 'surprise': 551,\n",
              " 'king': 552,\n",
              " 'disappointed': 553,\n",
              " 'return': 554,\n",
              " 'parent': 555,\n",
              " 'strange': 556,\n",
              " 'apparently': 557,\n",
              " 'non': 558,\n",
              " 'due': 559,\n",
              " 'television': 560,\n",
              " 'modern': 561,\n",
              " 'upon': 562,\n",
              " 'figure': 563,\n",
              " 'basically': 564,\n",
              " 'cheap': 565,\n",
              " 'release': 566,\n",
              " 'image': 567,\n",
              " 'member': 568,\n",
              " 'earth': 569,\n",
              " 'mention': 570,\n",
              " 'result': 571,\n",
              " 'oscar': 572,\n",
              " 'crime': 573,\n",
              " 'george': 574,\n",
              " 'season': 575,\n",
              " 'clich': 576,\n",
              " 'state': 577,\n",
              " 'subject': 578,\n",
              " 'clearly': 579,\n",
              " 'space': 580,\n",
              " '7': 581,\n",
              " 'ten': 582,\n",
              " 'drug': 583,\n",
              " 'five': 584,\n",
              " 'western': 585,\n",
              " 'british': 586,\n",
              " 'filmmaker': 587,\n",
              " 'gun': 588,\n",
              " 'french': 589,\n",
              " 'mystery': 590,\n",
              " 'moving': 591,\n",
              " 'entertainment': 592,\n",
              " 'straight': 593,\n",
              " 'fast': 594,\n",
              " 'soundtrack': 595,\n",
              " 'hold': 596,\n",
              " 'future': 597,\n",
              " 'predictable': 598,\n",
              " 'die': 599,\n",
              " 'form': 600,\n",
              " '8': 601,\n",
              " 'viewing': 602,\n",
              " 'villain': 603,\n",
              " 'whether': 604,\n",
              " 'doubt': 605,\n",
              " 'killing': 606,\n",
              " 'romantic': 607,\n",
              " 'break': 608,\n",
              " 'easily': 609,\n",
              " 'enjoyable': 610,\n",
              " 'peter': 611,\n",
              " 'near': 612,\n",
              " 'appears': 613,\n",
              " 'buy': 614,\n",
              " 'e': 615,\n",
              " 'bring': 616,\n",
              " 'giving': 617,\n",
              " 'aspect': 618,\n",
              " 'similar': 619,\n",
              " 'note': 620,\n",
              " 'supporting': 621,\n",
              " 'soldier': 622,\n",
              " 'adult': 623,\n",
              " 'working': 624,\n",
              " 'clear': 625,\n",
              " 'within': 626,\n",
              " 'filmed': 627,\n",
              " 'showing': 628,\n",
              " 'doctor': 629,\n",
              " 'bunch': 630,\n",
              " 'emotion': 631,\n",
              " 'dull': 632,\n",
              " 'suspense': 633,\n",
              " 'storyline': 634,\n",
              " 'surprised': 635,\n",
              " 'easy': 636,\n",
              " 'sorry': 637,\n",
              " 'tried': 638,\n",
              " 'certain': 639,\n",
              " 'force': 640,\n",
              " 'dance': 641,\n",
              " 'present': 642,\n",
              " 'setting': 643,\n",
              " 'among': 644,\n",
              " 'named': 645,\n",
              " 'standard': 646,\n",
              " 'student': 647,\n",
              " 'period': 648,\n",
              " 'general': 649,\n",
              " 'check': 650,\n",
              " 'victim': 651,\n",
              " 'gone': 652,\n",
              " '9': 653,\n",
              " 'dr': 654,\n",
              " 'using': 655,\n",
              " 'typical': 656,\n",
              " 'rent': 657,\n",
              " 'editing': 658,\n",
              " 'material': 659,\n",
              " 'avoid': 660,\n",
              " 'cartoon': 661,\n",
              " 'detail': 662,\n",
              " 'richard': 663,\n",
              " 'fantastic': 664,\n",
              " '20': 665,\n",
              " 'kept': 666,\n",
              " 'nearly': 667,\n",
              " 'realistic': 668,\n",
              " 'battle': 669,\n",
              " 'okay': 670,\n",
              " 'red': 671,\n",
              " 'animation': 672,\n",
              " 'greatest': 673,\n",
              " 'alien': 674,\n",
              " 'famous': 675,\n",
              " 'paul': 676,\n",
              " 'imagine': 677,\n",
              " 'actual': 678,\n",
              " 'mark': 679,\n",
              " 'premise': 680,\n",
              " 'follow': 681,\n",
              " 'issue': 682,\n",
              " 'wait': 683,\n",
              " 'water': 684,\n",
              " 'believable': 685,\n",
              " 'tom': 686,\n",
              " 'box': 687,\n",
              " 'brought': 688,\n",
              " 'truth': 689,\n",
              " 'romance': 690,\n",
              " 'vampire': 691,\n",
              " 'somehow': 692,\n",
              " 'forget': 693,\n",
              " 'america': 694,\n",
              " 'masterpiece': 695,\n",
              " 'male': 696,\n",
              " 'copy': 697,\n",
              " 'fit': 698,\n",
              " 'third': 699,\n",
              " 'offer': 700,\n",
              " 'imdb': 701,\n",
              " 'pay': 702,\n",
              " 'de': 703,\n",
              " 'average': 704,\n",
              " 'weak': 705,\n",
              " 'escape': 706,\n",
              " 'hear': 707,\n",
              " 'background': 708,\n",
              " 'sit': 709,\n",
              " 'society': 710,\n",
              " 'stage': 711,\n",
              " 'atmosphere': 712,\n",
              " 'york': 713,\n",
              " 'cover': 714,\n",
              " 'german': 715,\n",
              " 'deep': 716,\n",
              " 'cause': 717,\n",
              " 'baby': 718,\n",
              " 'fi': 719,\n",
              " 'gay': 720,\n",
              " 'eventually': 721,\n",
              " 'learn': 722,\n",
              " 'sci': 723,\n",
              " '70': 724,\n",
              " 'whatever': 725,\n",
              " 'expected': 726,\n",
              " 'particular': 727,\n",
              " 'secret': 728,\n",
              " 'lame': 729,\n",
              " 'indeed': 730,\n",
              " 'poorly': 731,\n",
              " 'walk': 732,\n",
              " 'fire': 733,\n",
              " 'crew': 734,\n",
              " 'shame': 735,\n",
              " 'free': 736,\n",
              " 'studio': 737,\n",
              " 'leaf': 738,\n",
              " 'rate': 739,\n",
              " 'hot': 740,\n",
              " 'choice': 741,\n",
              " 'adventure': 742,\n",
              " 'wood': 743,\n",
              " 'decided': 744,\n",
              " 'week': 745,\n",
              " 'party': 746,\n",
              " 'screenplay': 747,\n",
              " 'lee': 748,\n",
              " 'reading': 749,\n",
              " 'air': 750,\n",
              " 'difficult': 751,\n",
              " 'island': 752,\n",
              " 'needed': 753,\n",
              " 'girlfriend': 754,\n",
              " 'beauty': 755,\n",
              " 'footage': 756,\n",
              " 'focus': 757,\n",
              " 'acted': 758,\n",
              " 'emotional': 759,\n",
              " 'unless': 760,\n",
              " 'possibly': 761,\n",
              " 'sexual': 762,\n",
              " 'accent': 763,\n",
              " 'write': 764,\n",
              " 'lover': 765,\n",
              " '30': 766,\n",
              " 'forced': 767,\n",
              " 'became': 768,\n",
              " 'memorable': 769,\n",
              " 'nature': 770,\n",
              " 'otherwise': 771,\n",
              " 'plus': 772,\n",
              " 'forward': 773,\n",
              " 'bill': 774,\n",
              " 'match': 775,\n",
              " 'location': 776,\n",
              " 'touch': 777,\n",
              " 'animal': 778,\n",
              " 'cheesy': 779,\n",
              " 'superb': 780,\n",
              " 'fantasy': 781,\n",
              " 'inside': 782,\n",
              " 'interested': 783,\n",
              " 'development': 784,\n",
              " 'perfectly': 785,\n",
              " 'crazy': 786,\n",
              " 'weird': 787,\n",
              " 'badly': 788,\n",
              " 'previous': 789,\n",
              " 'mess': 790,\n",
              " 'personal': 791,\n",
              " 'japanese': 792,\n",
              " 'maker': 793,\n",
              " 'pick': 794,\n",
              " 'quickly': 795,\n",
              " 'cry': 796,\n",
              " 'total': 797,\n",
              " 'disney': 798,\n",
              " 'business': 799,\n",
              " 'towards': 800,\n",
              " 'win': 801,\n",
              " 'teen': 802,\n",
              " 'plan': 803,\n",
              " 'front': 804,\n",
              " 'company': 805,\n",
              " 'fear': 806,\n",
              " 'remake': 807,\n",
              " 'joe': 808,\n",
              " 'rich': 809,\n",
              " 'award': 810,\n",
              " 'worked': 811,\n",
              " 'brain': 812,\n",
              " 'shoot': 813,\n",
              " 'earlier': 814,\n",
              " 'incredibly': 815,\n",
              " 'master': 816,\n",
              " 'project': 817,\n",
              " 'dumb': 818,\n",
              " '90': 819,\n",
              " 'unique': 820,\n",
              " 'list': 821,\n",
              " 'realize': 822,\n",
              " 'cat': 823,\n",
              " 'powerful': 824,\n",
              " 'dramatic': 825,\n",
              " 'older': 826,\n",
              " 'era': 827,\n",
              " 'term': 828,\n",
              " 'following': 829,\n",
              " 'success': 830,\n",
              " 'costume': 831,\n",
              " 'plenty': 832,\n",
              " 'directing': 833,\n",
              " 'ask': 834,\n",
              " 'amount': 835,\n",
              " 'creepy': 836,\n",
              " 'various': 837,\n",
              " 'band': 838,\n",
              " 'appear': 839,\n",
              " 'brings': 840,\n",
              " 'italian': 841,\n",
              " 'memory': 842,\n",
              " 'c': 843,\n",
              " 'v': 844,\n",
              " 'century': 845,\n",
              " 'store': 846,\n",
              " 'apart': 847,\n",
              " 'admit': 848,\n",
              " 'political': 849,\n",
              " 'train': 850,\n",
              " 'co': 851,\n",
              " 'law': 852,\n",
              " 'blue': 853,\n",
              " 'leading': 854,\n",
              " 'fairly': 855,\n",
              " 'la': 856,\n",
              " 'portrayed': 857,\n",
              " 'spent': 858,\n",
              " 'trouble': 859,\n",
              " 'creature': 860,\n",
              " 'telling': 861,\n",
              " 'outside': 862,\n",
              " 'fighting': 863,\n",
              " 'wasted': 864,\n",
              " 'william': 865,\n",
              " 'fails': 866,\n",
              " 'spirit': 867,\n",
              " 'chase': 868,\n",
              " 'deserves': 869,\n",
              " '50': 870,\n",
              " 'plain': 871,\n",
              " 'portrayal': 872,\n",
              " 'throw': 873,\n",
              " 'drive': 874,\n",
              " 'office': 875,\n",
              " 'meant': 876,\n",
              " 'concept': 877,\n",
              " 'player': 878,\n",
              " 'appearance': 879,\n",
              " 'expecting': 880,\n",
              " 'create': 881,\n",
              " 'attack': 882,\n",
              " 'missing': 883,\n",
              " 'ability': 884,\n",
              " 'mistake': 885,\n",
              " 'language': 886,\n",
              " 'ended': 887,\n",
              " 'manages': 888,\n",
              " 'recently': 889,\n",
              " 'agree': 890,\n",
              " 'cute': 891,\n",
              " 'hole': 892,\n",
              " 'stick': 893,\n",
              " 'channel': 894,\n",
              " 'ghost': 895,\n",
              " 'talented': 896,\n",
              " 'caught': 897,\n",
              " 'depth': 898,\n",
              " 'odd': 899,\n",
              " 'large': 900,\n",
              " 'unlike': 901,\n",
              " 'hardly': 902,\n",
              " 'produced': 903,\n",
              " 'pace': 904,\n",
              " 'soul': 905,\n",
              " 'clever': 906,\n",
              " 'door': 907,\n",
              " 'flat': 908,\n",
              " 'laughing': 909,\n",
              " 'color': 910,\n",
              " 'nudity': 911,\n",
              " 'public': 912,\n",
              " 'tension': 913,\n",
              " 'extra': 914,\n",
              " 'potential': 915,\n",
              " 'culture': 916,\n",
              " 'indian': 917,\n",
              " '6': 918,\n",
              " 'casting': 919,\n",
              " 'created': 920,\n",
              " 'pull': 921,\n",
              " 'missed': 922,\n",
              " 'married': 923,\n",
              " 'wrote': 924,\n",
              " 'pure': 925,\n",
              " 'control': 926,\n",
              " 'waiting': 927,\n",
              " 'van': 928,\n",
              " 'science': 929,\n",
              " 'scott': 930,\n",
              " 'filled': 931,\n",
              " 'cold': 932,\n",
              " 'respect': 933,\n",
              " 'sweet': 934,\n",
              " 'incredible': 935,\n",
              " 'mentioned': 936,\n",
              " 'sadly': 937,\n",
              " 'familiar': 938,\n",
              " 'visual': 939,\n",
              " 'slightly': 940,\n",
              " 'speak': 941,\n",
              " 'considering': 942,\n",
              " 'gang': 943,\n",
              " 'million': 944,\n",
              " 'died': 945,\n",
              " 'answer': 946,\n",
              " 'hair': 947,\n",
              " 'us': 948,\n",
              " 'popular': 949,\n",
              " 'catch': 950,\n",
              " 'purpose': 951,\n",
              " 'post': 952,\n",
              " 'anti': 953,\n",
              " 'meaning': 954,\n",
              " 'college': 955,\n",
              " 'decides': 956,\n",
              " 'social': 957,\n",
              " 'convincing': 958,\n",
              " 'jane': 959,\n",
              " 'track': 960,\n",
              " 'taste': 961,\n",
              " 'entirely': 962,\n",
              " 'dancing': 963,\n",
              " '15': 964,\n",
              " 'positive': 965,\n",
              " 'bored': 966,\n",
              " 'critic': 967,\n",
              " 'neither': 968,\n",
              " 'intelligent': 969,\n",
              " 'compared': 970,\n",
              " 'follows': 971,\n",
              " 'common': 972,\n",
              " 'basic': 973,\n",
              " 'mad': 974,\n",
              " 'former': 975,\n",
              " 'lie': 976,\n",
              " 'appreciate': 977,\n",
              " 'suddenly': 978,\n",
              " 'building': 979,\n",
              " 'genius': 980,\n",
              " 'alive': 981,\n",
              " 'camp': 982,\n",
              " 'younger': 983,\n",
              " 'violent': 984,\n",
              " 'belief': 985,\n",
              " 'yeah': 986,\n",
              " 'road': 987,\n",
              " 'biggest': 988,\n",
              " 'adaptation': 989,\n",
              " 'fake': 990,\n",
              " 'slasher': 991,\n",
              " 'step': 992,\n",
              " 'computer': 993,\n",
              " 'fiction': 994,\n",
              " 'ride': 995,\n",
              " 'spot': 996,\n",
              " 'flaw': 997,\n",
              " 'trip': 998,\n",
              " 'successful': 999,\n",
              " 'christmas': 1000,\n",
              " ...}"
            ]
          },
          "metadata": {},
          "execution_count": 27
        }
      ],
      "source": [
        "tokenizer = Tokenizer(num_words = vocabulary, oov_token = oov_tok)\n",
        "tokenizer.fit_on_texts(preprocessed_review)\n",
        "word_index = tokenizer.word_index\n",
        "word_index"
      ],
      "id": "AS8AksnhgNEL"
    },
    {
      "cell_type": "code",
      "execution_count": 28,
      "metadata": {
        "id": "Wbs0ZTjRgNEM"
      },
      "outputs": [],
      "source": [
        "sequences = tokenizer.texts_to_sequences(preprocessed_review)\n",
        "padded = pad_sequences( sequences , maxlen = max_length , truncating = trunc_type)"
      ],
      "id": "Wbs0ZTjRgNEM"
    },
    {
      "cell_type": "code",
      "execution_count": 29,
      "metadata": {
        "colab": {
          "base_uri": "https://localhost:8080/"
        },
        "id": "5DA_WsVrgNEM",
        "outputId": "8fb43525-b083-4176-f5dc-3e9b018c6437"
      },
      "outputs": [
        {
          "output_type": "stream",
          "name": "stdout",
          "text": [
            "shape of training data is: ((40000, 150), (40000,))\n",
            "shape of testing data is: ((10000, 150), (10000,))\n"
          ]
        }
      ],
      "source": [
        "from sklearn.model_selection import train_test_split\n",
        "\n",
        "xtrain, xtest, ytrain, ytest = train_test_split(padded, y, test_size = 0.2, random_state = 120, shuffle = True)\n",
        "print(f'shape of training data is: {xtrain.shape, ytrain.shape}')\n",
        "print(f'shape of testing data is: {xtest.shape, ytest.shape}')"
      ],
      "id": "5DA_WsVrgNEM"
    },
    {
      "cell_type": "markdown",
      "metadata": {
        "id": "zP0CljlJgNEM"
      },
      "source": [
        "#### RNN\n",
        "\n"
      ],
      "id": "zP0CljlJgNEM"
    },
    {
      "cell_type": "code",
      "execution_count": 30,
      "metadata": {
        "id": "9-V4o3NWgNEN"
      },
      "outputs": [],
      "source": [
        "from tensorflow.keras.layers import SimpleRNN , BatchNormalization, Dense , Embedding\n",
        "from tensorflow.keras import Sequential"
      ],
      "id": "9-V4o3NWgNEN"
    },
    {
      "cell_type": "code",
      "execution_count": 31,
      "metadata": {
        "colab": {
          "base_uri": "https://localhost:8080/"
        },
        "id": "5POoh66QgNEN",
        "outputId": "1bb15682-5400-4319-8a40-f051b1cb705a"
      },
      "outputs": [
        {
          "output_type": "stream",
          "name": "stdout",
          "text": [
            "Model: \"sequential\"\n",
            "_________________________________________________________________\n",
            " Layer (type)                Output Shape              Param #   \n",
            "=================================================================\n",
            " embedding (Embedding)       (None, 150, 20)           300000    \n",
            "                                                                 \n",
            " simple_rnn (SimpleRNN)      (None, 32)                1696      \n",
            "                                                                 \n",
            " dense (Dense)               (None, 10)                330       \n",
            "                                                                 \n",
            " dense_1 (Dense)             (None, 1)                 11        \n",
            "                                                                 \n",
            "=================================================================\n",
            "Total params: 302,037\n",
            "Trainable params: 302,037\n",
            "Non-trainable params: 0\n",
            "_________________________________________________________________\n"
          ]
        }
      ],
      "source": [
        "model = Sequential()\n",
        "model.add(Embedding(vocabulary , embedding , input_length = max_length ))\n",
        "model.add(SimpleRNN(32))\n",
        "model.add(Dense(10))\n",
        "model.add(Dense(1 , activation = 'sigmoid'))\n",
        "model.summary()"
      ],
      "id": "5POoh66QgNEN"
    },
    {
      "cell_type": "code",
      "execution_count": 32,
      "metadata": {
        "id": "O7mSG1oIgNEO"
      },
      "outputs": [],
      "source": [
        "# compile the model\n",
        "model.compile(optimizer='adam', loss='binary_crossentropy', metrics=['accuracy'])"
      ],
      "id": "O7mSG1oIgNEO"
    },
    {
      "cell_type": "code",
      "execution_count": 33,
      "metadata": {
        "colab": {
          "base_uri": "https://localhost:8080/"
        },
        "id": "Vxvlyk7QgNEO",
        "outputId": "c9f7cee5-28cd-47ef-b28c-25d3f20265e4"
      },
      "outputs": [
        {
          "output_type": "stream",
          "name": "stdout",
          "text": [
            "Epoch 1/20\n",
            "36/36 [==============================] - 7s 150ms/step - loss: 0.6913 - accuracy: 0.5257 - val_loss: 0.6869 - val_accuracy: 0.5580\n",
            "Epoch 2/20\n",
            "36/36 [==============================] - 6s 167ms/step - loss: 0.6492 - accuracy: 0.6590 - val_loss: 0.6236 - val_accuracy: 0.6530\n",
            "Epoch 3/20\n",
            "36/36 [==============================] - 5s 137ms/step - loss: 0.3937 - accuracy: 0.8354 - val_loss: 0.3671 - val_accuracy: 0.8450\n",
            "Epoch 4/20\n",
            "36/36 [==============================] - 5s 139ms/step - loss: 0.1999 - accuracy: 0.9284 - val_loss: 0.4075 - val_accuracy: 0.8260\n",
            "Epoch 5/20\n",
            "36/36 [==============================] - 5s 136ms/step - loss: 0.1013 - accuracy: 0.9707 - val_loss: 0.4365 - val_accuracy: 0.8315\n",
            "Epoch 6/20\n",
            "36/36 [==============================] - 5s 143ms/step - loss: 0.0501 - accuracy: 0.9881 - val_loss: 0.4904 - val_accuracy: 0.8260\n",
            "Epoch 7/20\n",
            "36/36 [==============================] - 6s 173ms/step - loss: 0.0221 - accuracy: 0.9964 - val_loss: 0.5710 - val_accuracy: 0.8230\n",
            "Epoch 8/20\n",
            "36/36 [==============================] - 5s 137ms/step - loss: 0.0094 - accuracy: 0.9989 - val_loss: 0.6295 - val_accuracy: 0.8250\n",
            "Epoch 9/20\n",
            "36/36 [==============================] - 5s 138ms/step - loss: 0.0050 - accuracy: 0.9995 - val_loss: 0.6730 - val_accuracy: 0.8235\n",
            "Epoch 10/20\n",
            "36/36 [==============================] - 5s 134ms/step - loss: 0.0030 - accuracy: 0.9998 - val_loss: 0.7108 - val_accuracy: 0.8257\n",
            "Epoch 11/20\n",
            "36/36 [==============================] - 5s 139ms/step - loss: 0.0020 - accuracy: 0.9999 - val_loss: 0.7382 - val_accuracy: 0.8260\n",
            "Epoch 12/20\n",
            "36/36 [==============================] - 5s 138ms/step - loss: 0.0014 - accuracy: 0.9999 - val_loss: 0.7619 - val_accuracy: 0.8238\n",
            "Epoch 13/20\n",
            "36/36 [==============================] - 5s 138ms/step - loss: 0.0011 - accuracy: 1.0000 - val_loss: 0.7794 - val_accuracy: 0.8260\n",
            "Epoch 14/20\n",
            "36/36 [==============================] - 5s 141ms/step - loss: 8.3679e-04 - accuracy: 1.0000 - val_loss: 0.7936 - val_accuracy: 0.8267\n",
            "Epoch 15/20\n",
            "36/36 [==============================] - 5s 136ms/step - loss: 6.6364e-04 - accuracy: 1.0000 - val_loss: 0.8111 - val_accuracy: 0.8280\n",
            "Epoch 16/20\n",
            "36/36 [==============================] - 5s 140ms/step - loss: 5.5005e-04 - accuracy: 1.0000 - val_loss: 0.8244 - val_accuracy: 0.8270\n",
            "Epoch 17/20\n",
            "36/36 [==============================] - 5s 135ms/step - loss: 4.6533e-04 - accuracy: 1.0000 - val_loss: 0.8353 - val_accuracy: 0.8278\n",
            "Epoch 18/20\n",
            "36/36 [==============================] - 5s 138ms/step - loss: 3.9839e-04 - accuracy: 1.0000 - val_loss: 0.8440 - val_accuracy: 0.8273\n",
            "Epoch 19/20\n",
            "36/36 [==============================] - 5s 134ms/step - loss: 3.4589e-04 - accuracy: 1.0000 - val_loss: 0.8544 - val_accuracy: 0.8280\n",
            "Epoch 20/20\n",
            "36/36 [==============================] - 5s 135ms/step - loss: 3.0597e-04 - accuracy: 1.0000 - val_loss: 0.8627 - val_accuracy: 0.8288\n"
          ]
        }
      ],
      "source": [
        "history = model.fit(xtrain, ytrain, validation_split = (0.1) , epochs=20,  batch_size = 1024 , verbose = 1)"
      ],
      "id": "Vxvlyk7QgNEO"
    },
    {
      "cell_type": "code",
      "source": [
        "model.evaluate(xtest,ytest)"
      ],
      "metadata": {
        "colab": {
          "base_uri": "https://localhost:8080/"
        },
        "id": "HRqYXkbL3aFA",
        "outputId": "04613e17-0b95-47cd-aa7c-7bb372146269"
      },
      "id": "HRqYXkbL3aFA",
      "execution_count": 34,
      "outputs": [
        {
          "output_type": "stream",
          "name": "stdout",
          "text": [
            "313/313 [==============================] - 4s 14ms/step - loss: 0.8574 - accuracy: 0.8268\n"
          ]
        },
        {
          "output_type": "execute_result",
          "data": {
            "text/plain": [
              "[0.8574062585830688, 0.8267999887466431]"
            ]
          },
          "metadata": {},
          "execution_count": 34
        }
      ]
    },
    {
      "cell_type": "code",
      "source": [
        "predictions = np.argmax(model.predict(xtest),axis = 1)\n",
        "predictions"
      ],
      "metadata": {
        "colab": {
          "base_uri": "https://localhost:8080/"
        },
        "id": "avCjftxx3fDh",
        "outputId": "2019e69c-7488-4000-b13a-bc2b3a2d4697"
      },
      "id": "avCjftxx3fDh",
      "execution_count": 35,
      "outputs": [
        {
          "output_type": "execute_result",
          "data": {
            "text/plain": [
              "array([0, 0, 0, ..., 0, 0, 0])"
            ]
          },
          "metadata": {},
          "execution_count": 35
        }
      ]
    },
    {
      "cell_type": "code",
      "source": [
        "from sklearn.metrics import accuracy_score,confusion_matrix ,classification_report\n",
        "cm=confusion_matrix(ytest,predictions)\n",
        "print(cm)"
      ],
      "metadata": {
        "colab": {
          "base_uri": "https://localhost:8080/"
        },
        "id": "AEVqyjPL3khp",
        "outputId": "c3751629-d8d3-4176-976e-b5b1487a5f55"
      },
      "id": "AEVqyjPL3khp",
      "execution_count": 36,
      "outputs": [
        {
          "output_type": "stream",
          "name": "stdout",
          "text": [
            "[[4982    0]\n",
            " [5018    0]]\n"
          ]
        }
      ]
    },
    {
      "cell_type": "code",
      "source": [
        "print(accuracy_score(ytest,predictions))"
      ],
      "metadata": {
        "id": "SRZNIxwX3mSi",
        "outputId": "e33d7195-ba6a-41fe-8c17-30e0079debf3",
        "colab": {
          "base_uri": "https://localhost:8080/"
        }
      },
      "id": "SRZNIxwX3mSi",
      "execution_count": 37,
      "outputs": [
        {
          "output_type": "stream",
          "name": "stdout",
          "text": [
            "0.4982\n"
          ]
        }
      ]
    },
    {
      "cell_type": "code",
      "source": [
        "import seaborn as sns\n",
        "\n",
        "fig = plt.figure(figsize=(10,7))\n",
        "confusion_matrix = cm\n",
        "sns.heatmap(confusion_matrix,annot = True,fmt = 'd')"
      ],
      "metadata": {
        "colab": {
          "base_uri": "https://localhost:8080/",
          "height": 449
        },
        "id": "RDaII30JRiwg",
        "outputId": "5427efb2-3773-4d59-9a5f-c1241b0ae99b"
      },
      "id": "RDaII30JRiwg",
      "execution_count": 38,
      "outputs": [
        {
          "output_type": "execute_result",
          "data": {
            "text/plain": [
              "<matplotlib.axes._subplots.AxesSubplot at 0x7f55508e9110>"
            ]
          },
          "metadata": {},
          "execution_count": 38
        },
        {
          "output_type": "display_data",
          "data": {
            "text/plain": [
              "<Figure size 720x504 with 2 Axes>"
            ],
            "image/png": "[encoded data removed]"
          },
          "metadata": {
            "needs_background": "light"
          }
        }
      ]
    },
    {
      "cell_type": "code",
      "source": [
        "print(classification_report(ytest,predictions))"
      ],
      "metadata": {
        "colab": {
          "base_uri": "https://localhost:8080/"
        },
        "id": "WB7EX9v-RoA-",
        "outputId": "737e0da2-3cd7-44ed-dc29-c5109906a2f6"
      },
      "id": "WB7EX9v-RoA-",
      "execution_count": 39,
      "outputs": [
        {
          "output_type": "stream",
          "name": "stdout",
          "text": [
            "              precision    recall  f1-score   support\n",
            "\n",
            "           0       0.50      1.00      0.67      4982\n",
            "           1       0.00      0.00      0.00      5018\n",
            "\n",
            "    accuracy                           0.50     10000\n",
            "   macro avg       0.25      0.50      0.33     10000\n",
            "weighted avg       0.25      0.50      0.33     10000\n",
            "\n"
          ]
        },
        {
          "output_type": "stream",
          "name": "stderr",
          "text": [
            "/usr/local/lib/python3.7/dist-packages/sklearn/metrics/_classification.py:1318: UndefinedMetricWarning: Precision and F-score are ill-defined and being set to 0.0 in labels with no predicted samples. Use `zero_division` parameter to control this behavior.\n",
            "  _warn_prf(average, modifier, msg_start, len(result))\n",
            "/usr/local/lib/python3.7/dist-packages/sklearn/metrics/_classification.py:1318: UndefinedMetricWarning: Precision and F-score are ill-defined and being set to 0.0 in labels with no predicted samples. Use `zero_division` parameter to control this behavior.\n",
            "  _warn_prf(average, modifier, msg_start, len(result))\n",
            "/usr/local/lib/python3.7/dist-packages/sklearn/metrics/_classification.py:1318: UndefinedMetricWarning: Precision and F-score are ill-defined and being set to 0.0 in labels with no predicted samples. Use `zero_division` parameter to control this behavior.\n",
            "  _warn_prf(average, modifier, msg_start, len(result))\n"
          ]
        }
      ]
    },
    {
      "cell_type": "markdown",
      "source": [
        "Nauve Bayes Model"
      ],
      "metadata": {
        "id": "ixeJpoLYXrYP"
      },
      "id": "ixeJpoLYXrYP"
    },
    {
      "cell_type": "code",
      "source": [
        "from sklearn.naive_bayes import MultinomialNB\n",
        "from sklearn.metrics import accuracy_score\n",
        "\n",
        "naive = MultinomialNB()\n",
        "naive.fit(xtrain, ytrain)\n",
        "predictions = naive.predict(xtest)\n",
        "predictions"
      ],
      "metadata": {
        "colab": {
          "base_uri": "https://localhost:8080/"
        },
        "id": "aQ8O7jz7SmSU",
        "outputId": "5163c8ac-8b57-4368-a0af-e7125b9e715b"
      },
      "id": "aQ8O7jz7SmSU",
      "execution_count": 40,
      "outputs": [
        {
          "output_type": "execute_result",
          "data": {
            "text/plain": [
              "array([0, 0, 0, ..., 0, 1, 0])"
            ]
          },
          "metadata": {},
          "execution_count": 40
        }
      ]
    },
    {
      "cell_type": "code",
      "source": [
        "accuracy = accuracy_score(ytest, predictions)\n",
        "print(f'The accuracy of our model: {accuracy}')"
      ],
      "metadata": {
        "colab": {
          "base_uri": "https://localhost:8080/"
        },
        "id": "4rXsWa9WSnSz",
        "outputId": "368caf95-b14a-42f0-aacd-1efd4727af5e"
      },
      "id": "4rXsWa9WSnSz",
      "execution_count": 41,
      "outputs": [
        {
          "output_type": "stream",
          "name": "stdout",
          "text": [
            "The accuracy of our model: 0.5057\n"
          ]
        }
      ]
    },
    {
      "cell_type": "code",
      "execution_count": 42,
      "metadata": {
        "id": "TdwA75-wgNEO"
      },
      "outputs": [],
      "source": [
        "from sklearn.metrics import classification_report, confusion_matrix\n",
        "import seaborn as sns"
      ],
      "id": "TdwA75-wgNEO"
    },
    {
      "cell_type": "code",
      "execution_count": 43,
      "metadata": {
        "id": "q8dVLXkGgNEO",
        "outputId": "fdfc08ca-e7e1-4bd9-dcb1-cce5d70cb242",
        "colab": {
          "base_uri": "https://localhost:8080/"
        }
      },
      "outputs": [
        {
          "output_type": "stream",
          "name": "stdout",
          "text": [
            "              precision    recall  f1-score   support\n",
            "\n",
            "           0       0.50      0.70      0.59      4982\n",
            "           1       0.51      0.31      0.39      5018\n",
            "\n",
            "    accuracy                           0.51     10000\n",
            "   macro avg       0.51      0.51      0.49     10000\n",
            "weighted avg       0.51      0.51      0.49     10000\n",
            "\n"
          ]
        }
      ],
      "source": [
        "naive_report = classification_report(ytest, predictions)\n",
        "print(naive_report)"
      ],
      "id": "q8dVLXkGgNEO"
    },
    {
      "cell_type": "code",
      "execution_count": 44,
      "metadata": {
        "id": "XqRq7FBLgNEO",
        "colab": {
          "base_uri": "https://localhost:8080/",
          "height": 552
        },
        "outputId": "e5b16a0f-ac6f-4297-8c21-891e3b36c4d3"
      },
      "outputs": [
        {
          "output_type": "display_data",
          "data": {
            "text/plain": [
              "<Figure size 750x525 with 2 Axes>"
            ],
            "image/png": "[encoded data removed]"
          },
          "metadata": {
            "needs_background": "light"
          }
        }
      ],
      "source": [
        "naive_cm = confusion_matrix(ytest, predictions)\n",
        "fig,axs = plt.subplots(figsize = (5,3.5), dpi = 150)\n",
        "sns.heatmap(naive_cm, annot = True, fmt = 'd', cmap=\"YlGnBu\")\n",
        "axs.set_xlabel('Predicted Target', fontsize = 14)\n",
        "axs.set_ylabel('Actual Target', fontsize = 14)\n",
        "axs.set_title('Confusion Matrix', fontsize = 16)\n",
        "plt.style.use('dark_background')\n"
      ],
      "id": "XqRq7FBLgNEO"
    },
    {
      "cell_type": "markdown",
      "metadata": {
        "id": "IfS1FwLOgNEP"
      },
      "source": [
        "#### Logistic Regression "
      ],
      "id": "IfS1FwLOgNEP"
    },
    {
      "cell_type": "code",
      "execution_count": 45,
      "metadata": {
        "id": "RYNvwFG8gNEP",
        "colab": {
          "base_uri": "https://localhost:8080/"
        },
        "outputId": "a7502d73-615e-4a2a-b93e-dc80545bb264"
      },
      "outputs": [
        {
          "output_type": "stream",
          "name": "stdout",
          "text": [
            "[1 1 1 ... 1 0 1]\n",
            "Logistic Regression Gave an accuracy  of 0.5136\n"
          ]
        }
      ],
      "source": [
        "from sklearn.linear_model import LogisticRegression\n",
        "\n",
        "logic = LogisticRegression()\n",
        "logic.fit(xtrain, ytrain)\n",
        "logic_pred = logic.predict(xtest)\n",
        "print(logic_pred)\n",
        "logic_acc = accuracy_score(ytest, logic_pred)\n",
        "print(f'Logistic Regression Gave an accuracy  of {logic_acc}')"
      ],
      "id": "RYNvwFG8gNEP"
    },
    {
      "cell_type": "code",
      "execution_count": 46,
      "metadata": {
        "id": "2XAC94d3gNEP",
        "colab": {
          "base_uri": "https://localhost:8080/"
        },
        "outputId": "e3085733-abc3-467c-cefd-d691e9e49599"
      },
      "outputs": [
        {
          "output_type": "stream",
          "name": "stdout",
          "text": [
            "              precision    recall  f1-score   support\n",
            "\n",
            "           0       0.51      0.43      0.47      4982\n",
            "           1       0.51      0.59      0.55      5018\n",
            "\n",
            "    accuracy                           0.51     10000\n",
            "   macro avg       0.51      0.51      0.51     10000\n",
            "weighted avg       0.51      0.51      0.51     10000\n",
            "\n"
          ]
        }
      ],
      "source": [
        "logic_report = classification_report(ytest, logic.predict(xtest))\n",
        "print(logic_report)"
      ],
      "id": "2XAC94d3gNEP"
    },
    {
      "cell_type": "code",
      "execution_count": 50,
      "metadata": {
        "scrolled": true,
        "id": "a8GTaGgCgNEP",
        "colab": {
          "base_uri": "https://localhost:8080/",
          "height": 570
        },
        "outputId": "f21ababf-7866-4a64-c6a6-7077d5cea222"
      },
      "outputs": [
        {
          "output_type": "execute_result",
          "data": {
            "text/plain": [
              "Text(0.5, 1.0, 'Confusion Matrix')"
            ]
          },
          "metadata": {},
          "execution_count": 50
        },
        {
          "output_type": "display_data",
          "data": {
            "text/plain": [
              "<Figure size 750x525 with 2 Axes>"
            ],
            "image/png": "[encoded data removed]"
          },
          "metadata": {}
        }
      ],
      "source": [
        "logic_cm = confusion_matrix(ytest,logic_pred)\n",
        "fig,axs = plt.subplots(figsize = (5,3.5), dpi = 150)\n",
        "sns.heatmap(logic_cm, annot = True, fmt = 'd', cmap=\"Reds\")\n",
        "axs.set_xlabel('Predicted Target', fontsize = 14)\n",
        "axs.set_ylabel('Actual Target', fontsize = 14)\n",
        "axs.set_title('Confusion Matrix', fontsize = 16)\n"
      ],
      "id": "a8GTaGgCgNEP"
    },
    {
      "cell_type": "markdown",
      "metadata": {
        "id": "ao8HCBD5gNEP"
      },
      "source": [
        "#### Decision Tree"
      ],
      "id": "ao8HCBD5gNEP"
    },
    {
      "cell_type": "code",
      "execution_count": 51,
      "metadata": {
        "id": "3W6Gp_eYgNEQ"
      },
      "outputs": [],
      "source": [
        "from sklearn.tree import DecisionTreeClassifier"
      ],
      "id": "3W6Gp_eYgNEQ"
    },
    {
      "cell_type": "code",
      "execution_count": 52,
      "metadata": {
        "id": "qJYx5eoYgNEQ",
        "colab": {
          "base_uri": "https://localhost:8080/"
        },
        "outputId": "203acf74-fa2d-47cd-80b7-737efa17db87"
      },
      "outputs": [
        {
          "output_type": "stream",
          "name": "stdout",
          "text": [
            "[0 0 0 ... 1 1 0]\n",
            "Decision Tree gave an accuracy  of 0.5169\n"
          ]
        }
      ],
      "source": [
        "DT = DecisionTreeClassifier()\n",
        "DT.fit(xtrain, ytrain)\n",
        "\n",
        "DT_pred = DT.predict(xtest)\n",
        "print(DT_pred)\n",
        "        \n",
        "DT_acc = accuracy_score(ytest, DT_pred)\n",
        "print(f'Decision Tree gave an accuracy  of {DT_acc}')"
      ],
      "id": "qJYx5eoYgNEQ"
    },
    {
      "cell_type": "code",
      "execution_count": 53,
      "metadata": {
        "id": "T1K7LbOjgNEQ",
        "colab": {
          "base_uri": "https://localhost:8080/"
        },
        "outputId": "e1c65aea-dacf-47cf-f0a9-cb5ec273fdc1"
      },
      "outputs": [
        {
          "output_type": "stream",
          "name": "stdout",
          "text": [
            "              precision    recall  f1-score   support\n",
            "\n",
            "           0       0.51      0.53      0.52      4982\n",
            "           1       0.52      0.51      0.51      5018\n",
            "\n",
            "    accuracy                           0.52     10000\n",
            "   macro avg       0.52      0.52      0.52     10000\n",
            "weighted avg       0.52      0.52      0.52     10000\n",
            "\n"
          ]
        }
      ],
      "source": [
        "DT_report = classification_report(ytest, DT.predict(xtest))\n",
        "print(DT_report)"
      ],
      "id": "T1K7LbOjgNEQ"
    },
    {
      "cell_type": "code",
      "source": [
        "DT_pred.shape\n"
      ],
      "metadata": {
        "colab": {
          "base_uri": "https://localhost:8080/"
        },
        "id": "i_QuBoY6Yyze",
        "outputId": "50de052c-6c74-4c5e-8c47-341b15d7e126"
      },
      "id": "i_QuBoY6Yyze",
      "execution_count": 54,
      "outputs": [
        {
          "output_type": "execute_result",
          "data": {
            "text/plain": [
              "(10000,)"
            ]
          },
          "metadata": {},
          "execution_count": 54
        }
      ]
    },
    {
      "cell_type": "code",
      "source": [
        "ytest.shape"
      ],
      "metadata": {
        "colab": {
          "base_uri": "https://localhost:8080/"
        },
        "id": "9-uEzyD8ZKlp",
        "outputId": "ee11f1e8-0292-4dfb-97cb-7182b185fe58"
      },
      "id": "9-uEzyD8ZKlp",
      "execution_count": 55,
      "outputs": [
        {
          "output_type": "execute_result",
          "data": {
            "text/plain": [
              "(10000,)"
            ]
          },
          "metadata": {},
          "execution_count": 55
        }
      ]
    },
    {
      "cell_type": "code",
      "execution_count": 57,
      "metadata": {
        "scrolled": true,
        "id": "EXfQeX8hgNEQ",
        "colab": {
          "base_uri": "https://localhost:8080/",
          "height": 570
        },
        "outputId": "f37f2706-68e2-4a5e-dfdf-27cbce0d2318"
      },
      "outputs": [
        {
          "output_type": "execute_result",
          "data": {
            "text/plain": [
              "Text(0.5, 1.0, 'Confusion Matrix')"
            ]
          },
          "metadata": {},
          "execution_count": 57
        },
        {
          "output_type": "display_data",
          "data": {
            "text/plain": [
              "<Figure size 750x525 with 2 Axes>"
            ],
            "image/png": "[encoded data removed]"
          },
          "metadata": {}
        }
      ],
      "source": [
        "DT_cm = confusion_matrix(ytest, DT_pred)\n",
        "fig,axs = plt.subplots(figsize = (5,3.5), dpi = 150)\n",
        "sns.heatmap(DT_cm, annot = True, fmt = 'd', cmap=\"Purples\")\n",
        "axs.set_xlabel('Predicted Target', fontsize = 14)\n",
        "axs.set_ylabel('Actual Target', fontsize = 14)\n",
        "axs.set_title('Confusion Matrix', fontsize = 16)\n",
        "#plt.style.use('dark_background')\n"
      ],
      "id": "EXfQeX8hgNEQ"
    },
    {
      "cell_type": "markdown",
      "metadata": {
        "id": "CSFJ335FgNER"
      },
      "source": [
        "#### Random Forest"
      ],
      "id": "CSFJ335FgNER"
    },
    {
      "cell_type": "code",
      "execution_count": 58,
      "metadata": {
        "id": "lDpjSG1sgNER"
      },
      "outputs": [],
      "source": [
        "from sklearn.ensemble import RandomForestClassifier"
      ],
      "id": "lDpjSG1sgNER"
    },
    {
      "cell_type": "code",
      "execution_count": 59,
      "metadata": {
        "id": "FnMbLCsRgNET",
        "colab": {
          "base_uri": "https://localhost:8080/"
        },
        "outputId": "cd683862-6ed9-46a2-a90f-810d166da930"
      },
      "outputs": [
        {
          "output_type": "stream",
          "name": "stdout",
          "text": [
            "[1 0 1 ... 0 1 0]\n"
          ]
        }
      ],
      "source": [
        "RF = RandomForestClassifier()\n",
        "RF.fit(xtrain, ytrain)\n",
        "\n",
        "Rf_pred = RF.predict(xtest)\n",
        "print(Rf_pred)"
      ],
      "id": "FnMbLCsRgNET"
    },
    {
      "cell_type": "code",
      "execution_count": 60,
      "metadata": {
        "id": "knM0QxcIgNEU",
        "colab": {
          "base_uri": "https://localhost:8080/"
        },
        "outputId": "f7bd3457-f42a-416b-9407-a2b00d241c35"
      },
      "outputs": [
        {
          "output_type": "stream",
          "name": "stdout",
          "text": [
            "Random Forest gave an accuracy  of 0.5348\n"
          ]
        }
      ],
      "source": [
        "RF_acc = accuracy_score(ytest, Rf_pred)\n",
        "print(f'Random Forest gave an accuracy  of {RF_acc}')"
      ],
      "id": "knM0QxcIgNEU"
    },
    {
      "cell_type": "code",
      "execution_count": 61,
      "metadata": {
        "id": "MKedA-njgNEV",
        "colab": {
          "base_uri": "https://localhost:8080/"
        },
        "outputId": "56e7bd37-fa78-4091-b38a-3022bd9e6281"
      },
      "outputs": [
        {
          "output_type": "stream",
          "name": "stdout",
          "text": [
            "              precision    recall  f1-score   support\n",
            "\n",
            "           0       0.53      0.57      0.55      4982\n",
            "           1       0.54      0.50      0.52      5018\n",
            "\n",
            "    accuracy                           0.53     10000\n",
            "   macro avg       0.54      0.53      0.53     10000\n",
            "weighted avg       0.54      0.53      0.53     10000\n",
            "\n"
          ]
        }
      ],
      "source": [
        "RF_report = classification_report(ytest, Rf_pred)\n",
        "print(RF_report)"
      ],
      "id": "MKedA-njgNEV"
    },
    {
      "cell_type": "code",
      "execution_count": 62,
      "metadata": {
        "scrolled": true,
        "id": "Q3n4MHlrgNEV",
        "colab": {
          "base_uri": "https://localhost:8080/",
          "height": 570
        },
        "outputId": "908817a5-5a71-4fff-a070-cbf70019d5e3"
      },
      "outputs": [
        {
          "output_type": "execute_result",
          "data": {
            "text/plain": [
              "Text(0.5, 1.0, 'Confusion Matrix')"
            ]
          },
          "metadata": {},
          "execution_count": 62
        },
        {
          "output_type": "display_data",
          "data": {
            "text/plain": [
              "<Figure size 750x525 with 2 Axes>"
            ],
            "image/png": "[encoded data removed]"
          },
          "metadata": {}
        }
      ],
      "source": [
        "RF_cm = confusion_matrix(ytest, Rf_pred)\n",
        "fig,axs = plt.subplots(figsize = (5,3.5), dpi = 150)\n",
        "sns.heatmap(RF_cm, annot = True, fmt = 'd', cmap=\"Greens\")\n",
        "axs.set_xlabel('Predicted Target', fontsize = 14)\n",
        "axs.set_ylabel('Actual Target', fontsize = 14)\n",
        "axs.set_title('Confusion Matrix', fontsize = 16)\n",
        "#plt.style.use('dark_background')\n"
      ],
      "id": "Q3n4MHlrgNEV"
    }
  ],
  "metadata": {
    "kernelspec": {
      "display_name": "Python 3",
      "language": "python",
      "name": "python3"
    },
    "language_info": {
      "codemirror_mode": {
        "name": "ipython",
        "version": 3
      },
      "file_extension": ".py",
      "mimetype": "text/x-python",
      "name": "python",
      "nbconvert_exporter": "python",
      "pygments_lexer": "ipython3",
      "version": "3.8.5"
    },
    "colab": {
      "provenance": [],
      "collapsed_sections": []
    },
    "accelerator": "GPU",
    "gpuClass": "standard"
  },
  "nbformat": 4,
  "nbformat_minor": 5
}